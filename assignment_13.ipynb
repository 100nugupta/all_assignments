{
  "nbformat": 4,
  "nbformat_minor": 0,
  "metadata": {
    "colab": {
      "provenance": []
    },
    "kernelspec": {
      "name": "python3",
      "display_name": "Python 3"
    },
    "language_info": {
      "name": "python"
    }
  },
  "cells": [
    {
      "cell_type": "code",
      "execution_count": null,
      "metadata": {
        "id": "7U0f1U5T6V_-"
      },
      "outputs": [],
      "source": [
        "'''Question 1:\n",
        "Write a program that calculates and prints the value according to the given formula:\n",
        "Q = Square root of [(2 * C * D)/H]\n",
        "Following are the fixed values of C and H:\n",
        "C is 50. H is 30.\n",
        "D is the variable whose values should be input to your program in a comma-separated sequence.\n",
        "Example\n",
        "Let us assume the following comma separated input sequence is given to the program:\n",
        "100,150,180\n",
        "The output of the program should be:\n",
        "18,22,24\n",
        "'''"
      ]
    },
    {
      "cell_type": "code",
      "source": [
        "C=50\n",
        "H=30\n",
        "D=(input(\"Enter the value of D: \"))\n",
        "D_value= D.split(\",\")\n",
        "Q_value=[]\n",
        "for value in D_value:\n",
        "  value=int(value)\n",
        "  Q=((2*C*value)/H)**0.5\n",
        "  Q_value.append(Q)\n",
        "print(\"Q_value: \")\n",
        "print(Q_value)\n",
        "\n",
        "\n"
      ],
      "metadata": {
        "colab": {
          "base_uri": "https://localhost:8080/"
        },
        "id": "8HDFmzEU6iTQ",
        "outputId": "6eab1482-2dbc-435c-d91e-6caa491e3374"
      },
      "execution_count": null,
      "outputs": [
        {
          "output_type": "stream",
          "name": "stdout",
          "text": [
            "Enter the value of D: 10,20,30\n",
            "Q_value: \n",
            "[5.773502691896258, 8.16496580927726, 10.0]\n"
          ]
        }
      ]
    },
    {
      "cell_type": "code",
      "source": [
        "'''Question 2:\n",
        "Write a program which takes 2 digits, X,Y as input and generates a 2-dimensional array. The element value in the i-th row and j-th column of the array should be i*j.\n",
        "Note: i=0,1.., X-1; j=0,1,¡Y-1.\n",
        "Example\n",
        "Suppose the following inputs are given to the program:\n",
        "3,5\n",
        "Then, the output of the program should be:\n",
        "[[0, 0, 0, 0, 0], [0, 1, 2, 3, 4], [0, 2, 4, 6, 8]] \n",
        "'''"
      ],
      "metadata": {
        "id": "MaHYmQZy8fmb"
      },
      "execution_count": null,
      "outputs": []
    },
    {
      "cell_type": "code",
      "source": [
        "X=int(input(\"Enter the value of Rows: \"))\n",
        "Y=int(input(\"Enter the value of Columns: \"))\n",
        "arr_2=[]\n",
        "for i in range(X):\n",
        "  row=[]\n",
        "  for j in range(Y):\n",
        "    columns=[]\n",
        "    element=int(input(f\"enter the value of position of element {i},{j}: \"))\n",
        "    row.append(element)\n",
        "  arr_2.append(row)\n",
        "print(\"2 D array\")\n",
        "for row in arr_2:\n",
        "  print(row)\n",
        "\n",
        "\n"
      ],
      "metadata": {
        "colab": {
          "base_uri": "https://localhost:8080/"
        },
        "id": "DWHzizdr8oAn",
        "outputId": "4665e793-22d3-496c-9618-57a90d4d8da7"
      },
      "execution_count": null,
      "outputs": [
        {
          "output_type": "stream",
          "name": "stdout",
          "text": [
            "Enter the value of Rows: 3\n",
            "Enter the value of Columns: 5\n",
            "enter the value of position of element 0,0: 1\n",
            "enter the value of position of element 0,1: 2\n",
            "enter the value of position of element 0,2: 3\n",
            "enter the value of position of element 0,3: 4\n",
            "enter the value of position of element 0,4: 5\n",
            "enter the value of position of element 1,0: 6\n",
            "enter the value of position of element 1,1: 7\n",
            "enter the value of position of element 1,2: 8\n",
            "enter the value of position of element 1,3: 9\n",
            "enter the value of position of element 1,4: 10\n",
            "enter the value of position of element 2,0: 11\n",
            "enter the value of position of element 2,1: 12\n",
            "enter the value of position of element 2,2: 13\n",
            "enter the value of position of element 2,3: 4\n",
            "enter the value of position of element 2,4: 15\n",
            "2 D array\n",
            "[1, 2, 3, 4, 5]\n",
            "[6, 7, 8, 9, 10]\n",
            "[11, 12, 13, 4, 15]\n"
          ]
        }
      ]
    },
    {
      "cell_type": "code",
      "source": [
        "X1=int(input(\"Enter the value of Rows: \"))\n",
        "Y1=int(input(\"Enter the value of Columns: \"))\n",
        "arr_2D=[]\n",
        "for i in range(X1):\n",
        "  row=[]\n",
        "  for j in range(Y1):\n",
        "    element=i*j\n",
        "    row.append(element)\n",
        "  arr_2D.append(row)\n",
        "print(\"2D array: \")\n",
        "for row in arr_2D:\n",
        "  print(row)\n",
        "\n"
      ],
      "metadata": {
        "colab": {
          "base_uri": "https://localhost:8080/"
        },
        "id": "rEbhsKWB_UFD",
        "outputId": "5c77483a-5be4-4436-b916-f863e8e6a465"
      },
      "execution_count": null,
      "outputs": [
        {
          "output_type": "stream",
          "name": "stdout",
          "text": [
            "Enter the value of Rows: 3\n",
            "Enter the value of Columns: 5\n",
            "2D array: \n",
            "[0, 0, 0, 0, 0]\n",
            "[0, 1, 2, 3, 4]\n",
            "[0, 2, 4, 6, 8]\n"
          ]
        }
      ]
    },
    {
      "cell_type": "code",
      "source": [
        "'''Question 3:\n",
        "Write a program that accepts a comma separated sequence of words as input and prints the words in a comma-separated sequence after sorting them alphabetically.\n",
        "Suppose the following input is supplied to the program:\n",
        "without,hello,bag,world\n",
        "Then, the output should be:\n",
        "bag,hello,without,world\n",
        "'''\n"
      ],
      "metadata": {
        "id": "f4navFWfAI8I"
      },
      "execution_count": null,
      "outputs": []
    },
    {
      "cell_type": "code",
      "source": [
        "user_input=input(\"enter the words: \")\n",
        "user_input_comma= user_input.split(',')\n",
        "\n",
        "empty_input=[]\n",
        "for i in user_input_comma:\n",
        "  \n",
        "  empty_input.append(i.strip())\n",
        "empty_input.sort()\n",
        "print(empty_input)\n",
        "\n",
        "\n"
      ],
      "metadata": {
        "colab": {
          "base_uri": "https://localhost:8080/"
        },
        "id": "gtKWrpnIAPMX",
        "outputId": "772aa3f7-9877-42f5-88e1-1f78917c51f6"
      },
      "execution_count": null,
      "outputs": [
        {
          "output_type": "stream",
          "name": "stdout",
          "text": [
            "enter the words: without, bag, hello, watch, apple\n",
            "['apple', 'bag', 'hello', 'watch', 'without']\n"
          ]
        }
      ]
    },
    {
      "cell_type": "code",
      "source": [
        "'''Question 4:\n",
        "Write a program that accepts a sequence of whitespace separated words as input and prints the words after removing all duplicate words and sorting them alphanumerically.\n",
        "Suppose the following input is supplied to the program:\n",
        "hello world and practice makes perfect and hello world again\n",
        "Then, the output should be:\n",
        "again and hello makes perfect practice world\n",
        "'''"
      ],
      "metadata": {
        "id": "jA3VYPAUCjBi"
      },
      "execution_count": null,
      "outputs": []
    },
    {
      "cell_type": "code",
      "source": [
        "user_input=input(\"Enter the words with whitespace: \")\n",
        "input_whitespace= user_input.split(' ')\n",
        "unique_words=[]\n",
        "for words in input_whitespace:\n",
        "  if words not in unique_words:\n",
        "    unique_words.append(words)\n",
        "result= ' '.join(unique_words)\n",
        "print(result)\n",
        "\n"
      ],
      "metadata": {
        "colab": {
          "base_uri": "https://localhost:8080/"
        },
        "id": "F7cN-Y8YCtLu",
        "outputId": "1f05d9ba-e762-46b0-9ccd-7d026b01d969"
      },
      "execution_count": null,
      "outputs": [
        {
          "output_type": "stream",
          "name": "stdout",
          "text": [
            "Enter the words with whitespace: sonu kumar gupta apple sonu banana orange apple\n",
            "sonu kumar gupta apple banana orange\n"
          ]
        }
      ]
    },
    {
      "cell_type": "code",
      "source": [
        "user_input = input(\"Enter the words with whitespace: \")\n",
        "input_whitespace = user_input.split(' ')\n",
        "\n",
        "unique_words = []\n",
        "for word in input_whitespace:\n",
        "    if word not in unique_words:\n",
        "        unique_words.append(word)\n",
        "sorted_words= sorted(unique_words)\n",
        "result = ' '.join(unique_words)\n",
        "print(result)"
      ],
      "metadata": {
        "colab": {
          "base_uri": "https://localhost:8080/"
        },
        "id": "t2y_leJuEQ2b",
        "outputId": "d3104b05-9f02-42c0-ee63-b751ec2eb59d"
      },
      "execution_count": null,
      "outputs": [
        {
          "output_type": "stream",
          "name": "stdout",
          "text": [
            "Enter the words with whitespace: apple banana cat apple zebra yatch zebra orange\n",
            "apple banana cat zebra yatch orange\n"
          ]
        }
      ]
    },
    {
      "cell_type": "code",
      "source": [
        "user_input = input(\"Enter the words with whitespace: \")\n",
        "input_whitespace = user_input.split(' ')\n",
        "\n",
        "unique_words = []\n",
        "for word in input_whitespace:\n",
        "    if word not in unique_words:\n",
        "        unique_words.append(word)\n",
        "\n",
        "sorted_words = sorted(unique_words)  # Sort the unique words alphabetically\n",
        "\n",
        "result = ' '.join(sorted_words)\n",
        "print(result)"
      ],
      "metadata": {
        "colab": {
          "base_uri": "https://localhost:8080/"
        },
        "id": "dwqJLit9FEhL",
        "outputId": "89647f45-6b45-4cef-f6a4-d6a893cc09fb"
      },
      "execution_count": null,
      "outputs": [
        {
          "output_type": "stream",
          "name": "stdout",
          "text": [
            "Enter the words with whitespace: banana apple cat apple zebra\n",
            "apple banana cat zebra\n"
          ]
        }
      ]
    },
    {
      "cell_type": "code",
      "source": [
        "'''Question 5:\n",
        "Write a program that accepts a sentence and calculate the number of letters and digits.\n",
        "Suppose the following input is supplied to the program:\n",
        "hello world! 123\n",
        "Then, the output should be:\n",
        "LETTERS 10\n",
        "DIGITS 3\n",
        "'''"
      ],
      "metadata": {
        "id": "JC_zc3vuGLoG"
      },
      "execution_count": null,
      "outputs": []
    },
    {
      "cell_type": "code",
      "source": [
        "def count_letter_digit(sentence):\n",
        "  letter=0\n",
        "  digit=0\n",
        "  for char in sentence:\n",
        "    if char.isalpha():\n",
        "      letter+=1\n",
        "    elif char.isdigit():\n",
        "      digit+=1\n",
        "  return letter, digit\n",
        "input_sentence=input(\"Enter the sentence: \")\n",
        "letter_count, letter_digit=count_letter_digit(input_sentence)\n",
        "print(letter_count)\n",
        "print(letter_digit)\n"
      ],
      "metadata": {
        "colab": {
          "base_uri": "https://localhost:8080/"
        },
        "id": "GHyM5kjjGTYx",
        "outputId": "9afb10c2-4ef9-43d5-a66b-fc5cd75d9d95"
      },
      "execution_count": 5,
      "outputs": [
        {
          "output_type": "stream",
          "name": "stdout",
          "text": [
            "Enter the sentence: hello world! 123\n",
            "10\n",
            "3\n"
          ]
        }
      ]
    },
    {
      "cell_type": "code",
      "source": [
        "def count_letters_digits(sentence):\n",
        "    letters = 0\n",
        "    digits = 0\n",
        "\n",
        "    for char in sentence:\n",
        "        if char.isalpha():\n",
        "            letters += 1\n",
        "        elif char.isdigit():\n",
        "            digits += 1\n",
        "\n",
        "    return letters, digits\n",
        "\n",
        "input_sentence = input(\"Enter a sentence: \")\n",
        "letter_count, digit_count = count_letters_digits(input_sentence)\n",
        "\n",
        "print(\"LETTERS\", letter_count)\n",
        "print(\"DIGITS\", digit_count)"
      ],
      "metadata": {
        "id": "EqzmB1AdHNTN",
        "colab": {
          "base_uri": "https://localhost:8080/"
        },
        "outputId": "5f53e695-af1d-49c1-feee-7b0400d0c6b8"
      },
      "execution_count": 4,
      "outputs": [
        {
          "output_type": "stream",
          "name": "stdout",
          "text": [
            "Enter a sentence: hello world! 123\n",
            "LETTERS 10\n",
            "DIGITS 3\n"
          ]
        }
      ]
    },
    {
      "cell_type": "code",
      "source": [
        "'''A website requires the users to input username and password to register. Write a program to check the validity of password input by users.\n",
        "Following are the criteria for checking the password:\n",
        "1. At least 1 letter between [a-z]\n",
        "2. At least 1 number between [0-9]\n",
        "1. At least 1 letter between [A-Z]\n",
        "3. At least 1 character from [$#@]\n",
        "4. Minimum length of transaction password: 6\n",
        "'''"
      ],
      "metadata": {
        "id": "_gl2b_Syo4Dy"
      },
      "execution_count": null,
      "outputs": []
    }
  ]
}