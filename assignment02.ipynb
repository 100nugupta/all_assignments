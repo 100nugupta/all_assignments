{
 "cells": [
  {
   "cell_type": "code",
   "execution_count": 2,
   "id": "4fdf8c92",
   "metadata": {},
   "outputs": [
    {
     "data": {
      "text/plain": [
       "True"
      ]
     },
     "execution_count": 2,
     "metadata": {},
     "output_type": "execute_result"
    }
   ],
   "source": [
    "'''\n",
    "1.What are the two values of the Boolean data type? How do you write them?\n",
    "Answer: In Python, there are two type of Boolean data type.\n",
    "1. True- If the statements meet the condition, then we will get True.\n",
    "2. False- If the statement does not meet the condition, then we will get false.\n",
    "'''\n",
    "\n",
    "'''\n",
    "Question:2What are the three different types of Boolean operators?\n",
    "Answer: There are three types of Boolean Operators.\n",
    "1. And\n",
    "2. Or\n",
    "3. Not\n",
    "'''\n",
    "\n",
    "'''\n",
    "3. Question3:\n",
    "Make a list of each Boolean operator's truth tables (i.e. every possible combination of Boolean values for the operator and what it evaluate ).\n",
    "Answer: \n",
    "'''\n",
    "'''\n",
    "Question4:\n",
    "What are the values of the following expressions?\n",
    "(5 > 4) and (3 == 5)\n",
    "not (5 > 4)\n",
    "(5 > 4) or (3 == 5)\n",
    "not ((5 > 4) or (3 == 5))\n",
    "(True and True) and (True == False)\n",
    "(not False) or (not True)\n",
    "Answer: \n",
    "'''\n",
    "(5 > 4) and (3 == 5)\n",
    "not (5 > 4)\n",
    "(5 > 4) or (3 == 5)\n",
    "not ((5 > 4) or (3 == 5))\n",
    "(True and True) and (True == False)\n",
    "(not False) or (not True)\n"
   ]
  },
  {
   "cell_type": "code",
   "execution_count": 6,
   "id": "17fb5cd4",
   "metadata": {},
   "outputs": [
    {
     "data": {
      "text/plain": [
       "True"
      ]
     },
     "execution_count": 6,
     "metadata": {},
     "output_type": "execute_result"
    }
   ],
   "source": [
    "'''\n",
    "Question:\n",
    "5. What are the six comparison operators?\n",
    "Answer: Six comparison operators are:\n",
    "equal to (==)\n",
    "not equal to (!=)\n",
    "Greater than (>)\n",
    "less than(<)\n",
    "Greater than equal to (>=)\n",
    "Less than equal to (<=)\n",
    "'''\n",
    "\n",
    "'''\n",
    "6. How do you tell the difference between the equal to and assignment operators?Describe a condition and when you would use one.\n",
    "Answer: Equal to (==) operator is use to get the output in boolean data type'''\n",
    "#for example:\n",
    "x=5 #assignment operator\n",
    "5==5 #equal to operator\n",
    "\n"
   ]
  },
  {
   "cell_type": "code",
   "execution_count": 13,
   "id": "cd4309b5",
   "metadata": {},
   "outputs": [
    {
     "ename": "IndentationError",
     "evalue": "expected an indented block after 'if' statement on line 4 (1577697386.py, line 5)",
     "output_type": "error",
     "traceback": [
      "\u001b[1;36m  Cell \u001b[1;32mIn[13], line 5\u001b[1;36m\u001b[0m\n\u001b[1;33m    print('eggs')\u001b[0m\n\u001b[1;37m    ^\u001b[0m\n\u001b[1;31mIndentationError\u001b[0m\u001b[1;31m:\u001b[0m expected an indented block after 'if' statement on line 4\n"
     ]
    }
   ],
   "source": [
    "'''\n",
    "Question: 7 7. Identify the three blocks in this code:'''\n",
    "spam = 0 # in this block of code, we have declared spam is equal to 0\n",
    "if spam == 10: #in this block of code, we have written if statement. Which is if spam ==10\n",
    "print('eggs')\n",
    "if spam > 5: #again here if statement. Which is if spam >5\n",
    "      print('bacon')\n",
    "else: # else statement\n",
    "print('ham')\n",
    "print('spam')\n",
    "print('spam')\n",
    "\n"
   ]
  },
  {
   "cell_type": "code",
   "execution_count": 30,
   "id": "789f346a",
   "metadata": {},
   "outputs": [
    {
     "name": "stdout",
     "output_type": "stream",
     "text": [
      "Greetings!\n"
     ]
    }
   ],
   "source": [
    "'''\n",
    "Question:8 Write code that prints Hello if 1 is stored in spam, prints Howdy if 2 is stored in spam, and prints\n",
    "Greetings! if anything else is stored in spam.'''\n",
    "\n",
    "if spam==1:\n",
    "    print('Hello')\n",
    "if spam==2:\n",
    "    print('Howdy')\n",
    "else:\n",
    "    print('Greetings!')\n",
    "\n"
   ]
  },
  {
   "cell_type": "code",
   "execution_count": 31,
   "id": "8b9dadeb",
   "metadata": {},
   "outputs": [
    {
     "data": {
      "text/plain": [
       "'\\nQuestion: 9 9.If your programme is stuck in an endless loop, what keys you’ll press?\\nAnswer: Ctrl +C'"
      ]
     },
     "execution_count": 31,
     "metadata": {},
     "output_type": "execute_result"
    }
   ],
   "source": [
    "'''\n",
    "Question: 9 9.If your programme is stuck in an endless loop, what keys you’ll press?\n",
    "Answer: Ctrl +C'''\n"
   ]
  },
  {
   "cell_type": "code",
   "execution_count": 71,
   "id": "bcdb9739",
   "metadata": {},
   "outputs": [
    {
     "name": "stdout",
     "output_type": "stream",
     "text": [
      "apple\n",
      "mango\n",
      "orange\n"
     ]
    }
   ],
   "source": [
    "'''\n",
    "Question: 10\n",
    "How can you tell the difference between break and continue?\n",
    "Answer: Break: Break statement is used when the condition meets the code'''\n",
    "x=['apple', 'mango', 'orange', 'banana', 'pineapple']\n",
    "for i in x:\n",
    "    print(i)\n",
    "    if i=='orange':\n",
    "        break\n",
    "\n",
    "        "
   ]
  },
  {
   "cell_type": "code",
   "execution_count": 78,
   "id": "cd14f843",
   "metadata": {},
   "outputs": [
    {
     "name": "stdout",
     "output_type": "stream",
     "text": [
      "apple\n",
      "mango\n",
      "banana\n",
      "pineapple\n"
     ]
    }
   ],
   "source": [
    "x=['apple', 'mango', 'orange', 'banana', 'pineapple']\n",
    "for i in x:\n",
    "    \n",
    "    if i == 'orange':\n",
    "        continue\n",
    "    print(i)"
   ]
  },
  {
   "cell_type": "code",
   "execution_count": 80,
   "id": "eae758bf",
   "metadata": {},
   "outputs": [
    {
     "name": "stdout",
     "output_type": "stream",
     "text": [
      "apple\n",
      "mango\n",
      "banana\n",
      "pineapple\n"
     ]
    }
   ],
   "source": [
    "x=['apple', 'mango', 'orange', 'banana', 'pineapple']\n",
    "for i in x:\n",
    "    # if the fruit is \"orange\", skip to the next iteration\n",
    "    if i == 'orange':\n",
    "        continue\n",
    "    print(i)"
   ]
  },
  {
   "cell_type": "code",
   "execution_count": 89,
   "id": "14b99f80",
   "metadata": {},
   "outputs": [
    {
     "name": "stdout",
     "output_type": "stream",
     "text": [
      "0\n",
      "1\n",
      "2\n",
      "3\n",
      "4\n",
      "5\n",
      "6\n",
      "7\n",
      "8\n"
     ]
    }
   ],
   "source": [
    "'''Question:11. In a for loop, what is the difference between range(10), range(0, 10), and range(0, 10, 1)?'''\n",
    "x=range(9)\n",
    "for i in x:\n",
    "    print(i)\n",
    "\n"
   ]
  },
  {
   "cell_type": "code",
   "execution_count": 93,
   "id": "952ac272",
   "metadata": {},
   "outputs": [
    {
     "name": "stdout",
     "output_type": "stream",
     "text": [
      "1\n",
      "2\n",
      "3\n",
      "4\n",
      "5\n",
      "6\n",
      "7\n",
      "8\n",
      "9\n"
     ]
    }
   ],
   "source": [
    "x=range(1,10)\n",
    "for i in x:\n",
    "    print(i)"
   ]
  },
  {
   "cell_type": "code",
   "execution_count": 95,
   "id": "b92cf180",
   "metadata": {},
   "outputs": [
    {
     "name": "stdout",
     "output_type": "stream",
     "text": [
      "0\n",
      "1\n",
      "2\n",
      "3\n",
      "4\n",
      "5\n",
      "6\n",
      "7\n",
      "8\n",
      "9\n"
     ]
    }
   ],
   "source": [
    "x=range(0,10,1)\n",
    "for i in x:\n",
    "    print(i)\n",
    "    "
   ]
  },
  {
   "cell_type": "code",
   "execution_count": 99,
   "id": "58a5a99b",
   "metadata": {},
   "outputs": [
    {
     "name": "stdout",
     "output_type": "stream",
     "text": [
      "1\n",
      "2\n",
      "3\n",
      "4\n",
      "5\n",
      "6\n",
      "7\n",
      "8\n",
      "9\n",
      "10\n"
     ]
    }
   ],
   "source": [
    "'''Question: 12. Write a short program that prints the numbers 1 to 10 using a for loop. Then write an equivalent\n",
    "program that prints the numbers 1 to 10 using a while loop.'''\n",
    "#using for loop\n",
    "for i in range(1,11):\n",
    "    print(i)\n",
    "    \n"
   ]
  },
  {
   "cell_type": "code",
   "execution_count": 101,
   "id": "bb7f9813",
   "metadata": {},
   "outputs": [],
   "source": [
    "#using while loop\n"
   ]
  },
  {
   "cell_type": "code",
   "execution_count": 105,
   "id": "44695695",
   "metadata": {},
   "outputs": [
    {
     "name": "stdout",
     "output_type": "stream",
     "text": [
      "1\n",
      "2\n",
      "3\n",
      "4\n",
      "5\n",
      "6\n",
      "7\n",
      "8\n",
      "9\n",
      "10\n"
     ]
    }
   ],
   "source": [
    "#using while loop\n",
    "i=1\n",
    "while i<=10:\n",
    "    print(i)\n",
    "    i+=1"
   ]
  },
  {
   "cell_type": "code",
   "execution_count": null,
   "id": "26291b4f",
   "metadata": {},
   "outputs": [],
   "source": [
    "'''If you had a function named bacon() inside a module named spam, how would you call it after\n",
    "importing spam?'''\n",
    "def bacon(spam):\n",
    "    \n"
   ]
  }
 ],
 "metadata": {
  "kernelspec": {
   "display_name": "Python 3 (ipykernel)",
   "language": "python",
   "name": "python3"
  },
  "language_info": {
   "codemirror_mode": {
    "name": "ipython",
    "version": 3
   },
   "file_extension": ".py",
   "mimetype": "text/x-python",
   "name": "python",
   "nbconvert_exporter": "python",
   "pygments_lexer": "ipython3",
   "version": "3.10.9"
  }
 },
 "nbformat": 4,
 "nbformat_minor": 5
}
