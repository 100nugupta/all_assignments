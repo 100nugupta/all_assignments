{
 "cells": [
  {
   "cell_type": "code",
   "execution_count": 1,
   "id": "ff95643d",
   "metadata": {},
   "outputs": [
    {
     "name": "stdout",
     "output_type": "stream",
     "text": [
      "Collecting fpdf\n",
      "  Downloading fpdf-1.7.2.tar.gz (39 kB)\n",
      "  Preparing metadata (setup.py): started\n",
      "  Preparing metadata (setup.py): finished with status 'done'\n",
      "Building wheels for collected packages: fpdf\n",
      "  Building wheel for fpdf (setup.py): started\n",
      "  Building wheel for fpdf (setup.py): finished with status 'done'\n",
      "  Created wheel for fpdf: filename=fpdf-1.7.2-py2.py3-none-any.whl size=40713 sha256=d24a35db26ba1883f54c7583073f853e4bbedd8ac3330e31b1d05c7a4a3f9c8a\n",
      "  Stored in directory: c:\\users\\acer\\appdata\\local\\pip\\cache\\wheels\\bc\\6c\\e7\\c239668efef980927985e629d58674079552a9de5ec3aebfd8\n",
      "Successfully built fpdf\n",
      "Installing collected packages: fpdf\n",
      "Successfully installed fpdf-1.7.2\n",
      "Note: you may need to restart the kernel to use updated packages.\n"
     ]
    }
   ],
   "source": [
    "pip install fpdf\n"
   ]
  },
  {
   "cell_type": "code",
   "execution_count": 4,
   "id": "54cb5e20",
   "metadata": {},
   "outputs": [
    {
     "name": "stdout",
     "output_type": "stream",
     "text": [
      "Enter the candidate's first and last name: Sonu Kumar\n",
      "Enter the Date of Joining: 21 May, 2023\n",
      "Enter the designation of the Candidate: Data Scientist\n",
      "Enter the candidate address: Faridabad, Haryana\n",
      "Enter the your name: Rajiv Gupta\n",
      "Dear Sonu Kumar,\n",
      "We enjoyed our recent discussions with you and thank you for participating in our selection process. We are pleased to extend you an offer to join us at RexGalaxy Technology as a Data Scientist.\n",
      " Your joining period starts on 21 May, 2023. During this period, you will be designated as a Data Scientist.\n",
      "\n",
      "Kindly sign and return the duplicate copy of this letter in token having acceptance of the above offer.\n",
      " At RexGalaxy Technology people come first. Our training and development programs are focused onpeople growth and will help you develop and explore newer skills to bring out the best in you.We build engaged and motivated teams - Challenge and diversity are a part of our dynamic andinteractive environment, which makes each day new and exciting.\n",
      " We strive to introduce new experiences into our work life through our fun at work initiatives ,and social activities inside and outside our organization.\n",
      "Sincerely,\n",
      "HR Manager \n",
      " Rajiv Gupta\n",
      "Offer letter generated and saved as 'Offer_Letter_Sonu Kumar_30 May 2023.pdf'.\n"
     ]
    }
   ],
   "source": [
    "from datetime import datetime\n",
    "from fpdf import FPDF\n",
    "\n",
    "\n",
    "full_name = input(\"Enter the candidate's first and last name: \")\n",
    "first_name, last_name = full_name.split(\" \")\n",
    "candidate_full_name=(first_name+\" \"+last_name)\n",
    "#print(candidate_full_name)\n",
    "Date_of_joining=input(\"Enter the Date of Joining: \")\n",
    "joining_date=Date_of_joining.split(',')\n",
    "#print(Date_of_joining)\n",
    "Designation_of_candidate= input(\"Enter the designation of the Candidate: \")\n",
    "#print(Designation_of_candidate)\n",
    "Candidate_address=input(\"Enter the candidate address: \")\n",
    "#print(Candidate_address)\n",
    "HR_name=input(\"Enter the your name: \")\n",
    "\n",
    "#Create a new pdf objects\n",
    "pdf = FPDF()\n",
    "pdf.add_page()\n",
    "pdf.set_font(\"Arial\", size=12)\n",
    "current_date = datetime.now().strftime(\"%d %b %Y\")\n",
    "\n",
    "#Create the offer letter content\n",
    "offer_letter= f\"Dear {candidate_full_name},\\n\"\n",
    "offer_letter+=f\"We enjoyed our recent discussions with you and thank you for participating in our selection process. \"\n",
    "offer_letter+=f\"We are pleased to extend you an offer to join us at RexGalaxy Technology as a {Designation_of_candidate}.\\n \"\n",
    "offer_letter+=f\"Your joining period starts on {Date_of_joining}. During this period, you will be designated as a {Designation_of_candidate}.\\n\\n\"\n",
    "offer_letter+=f\"Kindly sign and return the duplicate copy of this letter in token having acceptance of the above offer.\\n \"\n",
    "offer_letter+=f\"At RexGalaxy Technology people come first. Our training and development programs are focused on\"\n",
    "offer_letter+=f\"people growth and will help you develop and explore newer skills to bring out the best in you.\"\n",
    "offer_letter+=f\"We build engaged and motivated teams - Challenge and diversity are a part of our dynamic and\"\n",
    "offer_letter+=f\"interactive environment, which makes each day new and exciting.\\n \"\n",
    "offer_letter+=f\"We strive to introduce new experiences into our work life through our fun at work initiatives \"\n",
    "offer_letter+=f\",and social activities inside and outside our organization.\\n\"\n",
    "offer_letter+=f\"Sincerely,\\n\"\n",
    "offer_letter+=f\"HR Manager \\n {HR_name}\"\n",
    "print(offer_letter)\n",
    "\n",
    "\n",
    "#Add the content to the PDF\n",
    "pdf.multi_cell(0, 10, txt=offer_letter)\n",
    "\n",
    "\n",
    "Final_offer_letter = f\"Offer_Letter_{candidate_full_name}_{current_date}.pdf\"\n",
    "pdf.output(Final_offer_letter)\n",
    "\n",
    "print(f\"Offer letter generated and saved as '{Final_offer_letter}'.\")\n"
   ]
  }
 ],
 "metadata": {
  "kernelspec": {
   "display_name": "Python 3 (ipykernel)",
   "language": "python",
   "name": "python3"
  },
  "language_info": {
   "codemirror_mode": {
    "name": "ipython",
    "version": 3
   },
   "file_extension": ".py",
   "mimetype": "text/x-python",
   "name": "python",
   "nbconvert_exporter": "python",
   "pygments_lexer": "ipython3",
   "version": "3.10.9"
  }
 },
 "nbformat": 4,
 "nbformat_minor": 5
}
