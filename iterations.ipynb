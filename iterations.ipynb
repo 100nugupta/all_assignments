{
  "nbformat": 4,
  "nbformat_minor": 0,
  "metadata": {
    "colab": {
      "provenance": []
    },
    "kernelspec": {
      "name": "python3",
      "display_name": "Python 3"
    },
    "language_info": {
      "name": "python"
    }
  },
  "cells": [
    {
      "cell_type": "code",
      "execution_count": 1,
      "metadata": {
        "colab": {
          "base_uri": "https://localhost:8080/"
        },
        "id": "3qloX0v33QdQ",
        "outputId": "0a6bf572-139d-484b-a95d-8f82febf12de"
      },
      "outputs": [
        {
          "output_type": "stream",
          "name": "stdout",
          "text": [
            "1\n",
            "2\n",
            "3\n",
            "4\n",
            "5\n"
          ]
        }
      ],
      "source": [
        "#iterations: It is the process of taking each element from somethings. Whenever we use loop, we go over every itmes that is iterators.\n",
        "\n",
        "#for example:\n",
        "\n",
        "num=[1,2,3,4,5]\n",
        "for i in num:\n",
        "  print(i)\n",
        "  "
      ]
    },
    {
      "cell_type": "code",
      "source": [
        "#in the above example; we iterated each element one by one. This process is known as iterations."
      ],
      "metadata": {
        "id": "YL7h4cRn30yD"
      },
      "execution_count": null,
      "outputs": []
    },
    {
      "cell_type": "code",
      "source": [
        "#What is Iterators?\n",
        "l=[x for x in range(1,100000)]\n",
        "# for i in l:\n",
        "#   print (i**2)\n",
        "#Let see what is memory occupied in this code\n",
        "import sys\n",
        "print(sys.getsizeof(l)/1024)   #we have divided by 1024 for getting values in MB. So it taking almost 782 MB for this execution.\n",
        "\n",
        "\n",
        "\n",
        "#Now let's do it with iterator.\n",
        "l2=range(1,100000)\n",
        "# for x in l2:\n",
        "#   print (i**2)\n",
        "#let's see the memory occupied in this code.\n",
        "print(sys.getsizeof(l2)/1024)   #It is only 0.046875MB Which is very less compare to above exampples.\n",
        "\n",
        "\n"
      ],
      "metadata": {
        "colab": {
          "base_uri": "https://localhost:8080/"
        },
        "id": "PYAnxQiZ5auA",
        "outputId": "38b0500e-81e3-415d-b9aa-f2135756897b"
      },
      "execution_count": 9,
      "outputs": [
        {
          "output_type": "stream",
          "name": "stdout",
          "text": [
            "782.2109375\n",
            "0.046875\n"
          ]
        }
      ]
    },
    {
      "cell_type": "code",
      "source": [
        "#What is iterable?\n",
        "#In python, any object on which we can execuate a loop and it gives every items of it. Then it is an iterable.\n",
        "#let's see the example.\n",
        "\n"
      ],
      "metadata": {
        "id": "HPGGpgKG7MqG"
      },
      "execution_count": 15,
      "outputs": []
    },
    {
      "cell_type": "code",
      "source": [
        "list4=[1,2,3,4,5]\n",
        "for  i in list4:\n",
        "  print(i)   # we can get each element of list4 so it is ietrable. List, set, dict, string are the some examples of iterable objects."
      ],
      "metadata": {
        "colab": {
          "base_uri": "https://localhost:8080/"
        },
        "id": "loTotK337ncm",
        "outputId": "d9f3e78c-55e7-46bb-b0cb-b7998c81ab50"
      },
      "execution_count": 17,
      "outputs": [
        {
          "output_type": "stream",
          "name": "stdout",
          "text": [
            "1\n",
            "2\n",
            "3\n",
            "4\n",
            "5\n"
          ]
        }
      ]
    },
    {
      "cell_type": "markdown",
      "source": [
        "# **`What is is Iterable?`**  Iterable is an object whenever we iterate it, it also return the iterable objet\n"
      ],
      "metadata": {
        "id": "1lAAj0sQ8N3L"
      }
    },
    {
      "cell_type": "code",
      "source": [
        "#for example:\n",
        "l=[1,2,3,4,5]\n",
        "print(type(l))  #->>> it is a list which is also a iterable.\n",
        "for i in l:\n",
        "  print (i)"
      ],
      "metadata": {
        "colab": {
          "base_uri": "https://localhost:8080/"
        },
        "id": "1svjHyN47XmA",
        "outputId": "34779d9b-90d2-4a8c-9411-ac257dcf8d9c"
      },
      "execution_count": 22,
      "outputs": [
        {
          "output_type": "stream",
          "name": "stdout",
          "text": [
            "<class 'list'>\n",
            "1\n",
            "2\n",
            "3\n",
            "4\n",
            "5\n"
          ]
        }
      ]
    },
    {
      "cell_type": "code",
      "source": [
        "print(iter(l))  #--it is a returning as list_iterator"
      ],
      "metadata": {
        "colab": {
          "base_uri": "https://localhost:8080/"
        },
        "id": "9hpkoL4R88LZ",
        "outputId": "4e845706-758d-4579-fd44-456d580a26a5"
      },
      "execution_count": 23,
      "outputs": [
        {
          "output_type": "stream",
          "name": "stdout",
          "text": [
            "<list_iterator object at 0x7efdfdcf2590>\n"
          ]
        }
      ]
    },
    {
      "cell_type": "code",
      "source": [
        "#How to know which datatype/objects are iterable in python.\n",
        "\n",
        "a=2\n",
        "type(a)\n",
        "#let see can we apple for loop in a.\n",
        "for i in a:\n",
        "  print(i)\n",
        "\n",
        "#We are getting error. 'int' object is not iterable.\n",
        "\n",
        "#we have another method as well.\n"
      ],
      "metadata": {
        "colab": {
          "base_uri": "https://localhost:8080/",
          "height": 235
        },
        "id": "_zHsFXeW92Xg",
        "outputId": "3eaa56d2-7913-4a7c-f0c6-9e2f7c1a73e5"
      },
      "execution_count": 28,
      "outputs": [
        {
          "output_type": "error",
          "ename": "TypeError",
          "evalue": "ignored",
          "traceback": [
            "\u001b[0;31m---------------------------------------------------------------------------\u001b[0m",
            "\u001b[0;31mTypeError\u001b[0m                                 Traceback (most recent call last)",
            "\u001b[0;32m<ipython-input-28-85d47e7d2763>\u001b[0m in \u001b[0;36m<cell line: 6>\u001b[0;34m()\u001b[0m\n\u001b[1;32m      4\u001b[0m \u001b[0mtype\u001b[0m\u001b[0;34m(\u001b[0m\u001b[0ma\u001b[0m\u001b[0;34m)\u001b[0m\u001b[0;34m\u001b[0m\u001b[0;34m\u001b[0m\u001b[0m\n\u001b[1;32m      5\u001b[0m \u001b[0;31m#let see can we apple for loop in a.\u001b[0m\u001b[0;34m\u001b[0m\u001b[0;34m\u001b[0m\u001b[0m\n\u001b[0;32m----> 6\u001b[0;31m \u001b[0;32mfor\u001b[0m \u001b[0mi\u001b[0m \u001b[0;32min\u001b[0m \u001b[0ma\u001b[0m\u001b[0;34m:\u001b[0m\u001b[0;34m\u001b[0m\u001b[0;34m\u001b[0m\u001b[0m\n\u001b[0m\u001b[1;32m      7\u001b[0m   \u001b[0mprint\u001b[0m\u001b[0;34m(\u001b[0m\u001b[0mi\u001b[0m\u001b[0;34m)\u001b[0m\u001b[0;34m\u001b[0m\u001b[0;34m\u001b[0m\u001b[0m\n\u001b[1;32m      8\u001b[0m \u001b[0;34m\u001b[0m\u001b[0m\n",
            "\u001b[0;31mTypeError\u001b[0m: 'int' object is not iterable"
          ]
        }
      ]
    },
    {
      "cell_type": "code",
      "source": [
        "print(dir(a))   #in this method, if there is an special method named as '__iter__' then it will will iterable otherwise it will not be iterable. In this example we can see the iter. so a is not iterable."
      ],
      "metadata": {
        "colab": {
          "base_uri": "https://localhost:8080/"
        },
        "id": "uOajvhpX-NDX",
        "outputId": "1f207a1e-5836-4ef6-9c85-9e46476d6677"
      },
      "execution_count": 29,
      "outputs": [
        {
          "output_type": "stream",
          "name": "stdout",
          "text": [
            "['__abs__', '__add__', '__and__', '__bool__', '__ceil__', '__class__', '__delattr__', '__dir__', '__divmod__', '__doc__', '__eq__', '__float__', '__floor__', '__floordiv__', '__format__', '__ge__', '__getattribute__', '__getnewargs__', '__gt__', '__hash__', '__index__', '__init__', '__init_subclass__', '__int__', '__invert__', '__le__', '__lshift__', '__lt__', '__mod__', '__mul__', '__ne__', '__neg__', '__new__', '__or__', '__pos__', '__pow__', '__radd__', '__rand__', '__rdivmod__', '__reduce__', '__reduce_ex__', '__repr__', '__rfloordiv__', '__rlshift__', '__rmod__', '__rmul__', '__ror__', '__round__', '__rpow__', '__rrshift__', '__rshift__', '__rsub__', '__rtruediv__', '__rxor__', '__setattr__', '__sizeof__', '__str__', '__sub__', '__subclasshook__', '__truediv__', '__trunc__', '__xor__', 'as_integer_ratio', 'bit_count', 'bit_length', 'conjugate', 'denominator', 'from_bytes', 'imag', 'numerator', 'real', 'to_bytes']\n"
          ]
        }
      ]
    },
    {
      "cell_type": "code",
      "source": [
        "#Let's see anothet example.\n",
        "s='string'\n",
        "# for x in s:\n",
        "#   print (x)   #here we can see we can apply for loop so it is iterable. We can use dir() method\n",
        "print(dir(s))\n"
      ],
      "metadata": {
        "colab": {
          "base_uri": "https://localhost:8080/"
        },
        "id": "4q0fbQi1994Y",
        "outputId": "69c5ab17-4405-42c2-fc7c-32c131c88d6a"
      },
      "execution_count": 32,
      "outputs": [
        {
          "output_type": "stream",
          "name": "stdout",
          "text": [
            "['__add__', '__class__', '__contains__', '__delattr__', '__dir__', '__doc__', '__eq__', '__format__', '__ge__', '__getattribute__', '__getitem__', '__getnewargs__', '__gt__', '__hash__', '__init__', '__init_subclass__', '__iter__', '__le__', '__len__', '__lt__', '__mod__', '__mul__', '__ne__', '__new__', '__reduce__', '__reduce_ex__', '__repr__', '__rmod__', '__rmul__', '__setattr__', '__sizeof__', '__str__', '__subclasshook__', 'capitalize', 'casefold', 'center', 'count', 'encode', 'endswith', 'expandtabs', 'find', 'format', 'format_map', 'index', 'isalnum', 'isalpha', 'isascii', 'isdecimal', 'isdigit', 'isidentifier', 'islower', 'isnumeric', 'isprintable', 'isspace', 'istitle', 'isupper', 'join', 'ljust', 'lower', 'lstrip', 'maketrans', 'partition', 'removeprefix', 'removesuffix', 'replace', 'rfind', 'rindex', 'rjust', 'rpartition', 'rsplit', 'rstrip', 'split', 'splitlines', 'startswith', 'strip', 'swapcase', 'title', 'translate', 'upper', 'zfill']\n"
          ]
        }
      ]
    },
    {
      "cell_type": "code",
      "source": [
        "#how to know which objects are iterator in python.\n",
        "\n",
        "list5=[1,2,3,4]\n",
        "# for x in list5:\n",
        "#   print(x)\n",
        "dir(list5)  #we can see that here __iter__ is there so it is iterable. \n",
        "#But to check, iterator. we will use iter method. It it gives <list_iterator object. Then it is iterators.\n",
        "L=iter(list5)\n",
        "print(L)"
      ],
      "metadata": {
        "colab": {
          "base_uri": "https://localhost:8080/"
        },
        "id": "Z0oEe2U1_fBQ",
        "outputId": "8b0cdd1e-8341-415b-d3bf-0a48cd5b99d9"
      },
      "execution_count": 38,
      "outputs": [
        {
          "output_type": "stream",
          "name": "stdout",
          "text": [
            "<list_iterator object at 0x7efe1a1a1ff0>\n"
          ]
        }
      ]
    },
    {
      "cell_type": "code",
      "source": [],
      "metadata": {
        "id": "TMsPen1pAuzp"
      },
      "execution_count": null,
      "outputs": []
    },
    {
      "cell_type": "markdown",
      "source": [
        "**Let's understand how for loop works in python.**"
      ],
      "metadata": {
        "id": "AlTJ-VtVBNlf"
      }
    },
    {
      "cell_type": "code",
      "source": [
        "list6=[1,2,3,4,5,6,7]\n",
        "for x in list6:\n",
        "  print(x)"
      ],
      "metadata": {
        "colab": {
          "base_uri": "https://localhost:8080/"
        },
        "id": "RIYiajdsBUCp",
        "outputId": "c5ca1f6e-5bef-443e-b91c-ed94a5a11f12"
      },
      "execution_count": 39,
      "outputs": [
        {
          "output_type": "stream",
          "name": "stdout",
          "text": [
            "1\n",
            "2\n",
            "3\n",
            "4\n",
            "5\n",
            "6\n",
            "7\n"
          ]
        }
      ]
    },
    {
      "cell_type": "code",
      "source": [
        "# 1.First all we should have iterable object.\n",
        "# 2.Then it iterate the items of  iterable object. Using the iter() function.\n",
        "# 3. Then while fetching the iter() function it call next function. "
      ],
      "metadata": {
        "id": "XnMP1TspBnMl"
      },
      "execution_count": null,
      "outputs": []
    },
    {
      "cell_type": "code",
      "source": [
        "number=[1,2,3,4]   #here first step completed.\n",
        "#now second step.\n",
        "iter_number=iter(number)\n",
        "#print(iter_number)\n",
        "next(iter_number)\n",
        "next(iter_number)\n",
        "next(iter_number)\n",
        "next(iter_number)\n",
        "next(iter_number)"
      ],
      "metadata": {
        "colab": {
          "base_uri": "https://localhost:8080/",
          "height": 200
        },
        "id": "9TdU6CcGCOE9",
        "outputId": "4f80c67b-fb39-4254-9d48-fd0b98a30b40"
      },
      "execution_count": 47,
      "outputs": [
        {
          "output_type": "error",
          "ename": "StopIteration",
          "evalue": "ignored",
          "traceback": [
            "\u001b[0;31m---------------------------------------------------------------------------\u001b[0m",
            "\u001b[0;31mStopIteration\u001b[0m                             Traceback (most recent call last)",
            "\u001b[0;32m<ipython-input-47-ff0c575947b8>\u001b[0m in \u001b[0;36m<cell line: 9>\u001b[0;34m()\u001b[0m\n\u001b[1;32m      7\u001b[0m \u001b[0mnext\u001b[0m\u001b[0;34m(\u001b[0m\u001b[0miter_number\u001b[0m\u001b[0;34m)\u001b[0m\u001b[0;34m\u001b[0m\u001b[0;34m\u001b[0m\u001b[0m\n\u001b[1;32m      8\u001b[0m \u001b[0mnext\u001b[0m\u001b[0;34m(\u001b[0m\u001b[0miter_number\u001b[0m\u001b[0;34m)\u001b[0m\u001b[0;34m\u001b[0m\u001b[0;34m\u001b[0m\u001b[0m\n\u001b[0;32m----> 9\u001b[0;31m \u001b[0mnext\u001b[0m\u001b[0;34m(\u001b[0m\u001b[0miter_number\u001b[0m\u001b[0;34m)\u001b[0m\u001b[0;34m\u001b[0m\u001b[0;34m\u001b[0m\u001b[0m\n\u001b[0m",
            "\u001b[0;31mStopIteration\u001b[0m: "
          ]
        }
      ]
    },
    {
      "cell_type": "code",
      "source": [
        "#In above code we can see that 'next(iter_number)' run only for 4 times because at 5th time it thrown the error. because there were only 4 items\n"
      ],
      "metadata": {
        "id": "UZsR7jQHFSCj"
      },
      "execution_count": null,
      "outputs": []
    },
    {
      "cell_type": "markdown",
      "source": [
        "**Let's make our own for loop**"
      ],
      "metadata": {
        "id": "nCEgRilLFdgD"
      }
    },
    {
      "cell_type": "markdown",
      "source": [],
      "metadata": {
        "id": "1Iivt1TyBU1N"
      }
    },
    {
      "cell_type": "code",
      "source": [
        "def my_own_loop(iterable):\n",
        "  iterator=iter(iterable)\n",
        "\n",
        "  while True:\n",
        "\n",
        "    try:\n",
        "      print(next(iterator))\n",
        "    except StopIteration:\n",
        "      break\n",
        "\n"
      ],
      "metadata": {
        "id": "y_9Cd2GWFkAp"
      },
      "execution_count": 49,
      "outputs": []
    },
    {
      "cell_type": "code",
      "source": [
        "a=[1,2,3,4,5]\n",
        "b=(1,2,3,4,5)\n",
        "c={1,2,3,4,5}\n",
        "d={'a':1}\n",
        "e='sonu'\n",
        "# my_own_loop(a)\n",
        "# my_own_loop(b)\n",
        "# my_own_loop(c)\n",
        "# my_own_loop(d)\n",
        "# my_own_loop(e)\n",
        "#here we can iterate each items from all the variables a,b,c,d,e. So it one kind of for loof."
      ],
      "metadata": {
        "id": "9GsRhpROGCed"
      },
      "execution_count": 57,
      "outputs": []
    },
    {
      "cell_type": "code",
      "source": [],
      "metadata": {
        "id": "kZotgHN_GW_d"
      },
      "execution_count": null,
      "outputs": []
    }
  ]
}