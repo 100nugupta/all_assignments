{
 "cells": [
  {
   "cell_type": "code",
   "execution_count": 1,
   "id": "be2d16c0",
   "metadata": {},
   "outputs": [
    {
     "data": {
      "text/plain": [
       "\"assignment_01_week_01\\nQuestion-01\\n1. In the below elements which of them are values or an expression? eg:- values can be integer or string and expressions will be mathematical operators.\\n* \\n'hello'\\n-87.8\\n- \\n/ \\n\\n\\n6 \\n\""
      ]
     },
     "execution_count": 1,
     "metadata": {},
     "output_type": "execute_result"
    }
   ],
   "source": [
    "'''assignment_01_week_01\n",
    "Question-01\n",
    "1. In the below elements which of them are values or an expression? eg:- values can be integer or string and expressions will be mathematical operators.\n",
    "* \n",
    "'hello'\n",
    "-87.8\n",
    "- \n",
    "/ \n",
    "\n",
    "\n",
    "6 \n",
    "'''\n"
   ]
  },
  {
   "cell_type": "code",
   "execution_count": 3,
   "id": "ca5e2b3f",
   "metadata": {},
   "outputs": [
    {
     "data": {
      "text/plain": [
       "str"
      ]
     },
     "execution_count": 3,
     "metadata": {},
     "output_type": "execute_result"
    }
   ],
   "source": [
    "a='hello'\n",
    "type(a)"
   ]
  },
  {
   "cell_type": "code",
   "execution_count": 5,
   "id": "c2b89859",
   "metadata": {},
   "outputs": [
    {
     "data": {
      "text/plain": [
       "float"
      ]
     },
     "execution_count": 5,
     "metadata": {},
     "output_type": "execute_result"
    }
   ],
   "source": [
    "b=-87.8\n",
    "type(b) # It is an an expression or values\n"
   ]
  },
  {
   "cell_type": "code",
   "execution_count": 10,
   "id": "73db2148",
   "metadata": {},
   "outputs": [
    {
     "data": {
      "text/plain": [
       "int"
      ]
     },
     "execution_count": 10,
     "metadata": {},
     "output_type": "execute_result"
    }
   ],
   "source": [
    "#it(-) is not any expression\n",
    "s=6\n",
    "type(s)\n",
    "\n"
   ]
  },
  {
   "cell_type": "code",
   "execution_count": 11,
   "id": "3955088c",
   "metadata": {},
   "outputs": [
    {
     "data": {
      "text/plain": [
       "'\\nQuestion-02 What is the difference between string and variable?\\nString= In python, string is a datatype which contains only alphabet or words.\\nVariable= In python, variable is like a container which contains for keep the values of any element.\\nFor example: x=5 (it means x is a variable and it contained the value 5)'"
      ]
     },
     "execution_count": 11,
     "metadata": {},
     "output_type": "execute_result"
    }
   ],
   "source": [
    "'''\n",
    "Question-02 What is the difference between string and variable?\n",
    "String= In python, string is a datatype which contains only alphabet or words.\n",
    "Variable= In python, variable is like a container which contains for keep the values of any element.\n",
    "For example: x=5 (it means x is a variable and it contained the value 5)'''"
   ]
  },
  {
   "cell_type": "code",
   "execution_count": 12,
   "id": "403fcba9",
   "metadata": {},
   "outputs": [
    {
     "data": {
      "text/plain": [
       "'\\n3. Describe three different data types.\\nAnswer: In python, there are mainly 4 data types. But, here we will describe only 3 datatypes.\\n1. String (String data type contains the alphabet or groups of alphabet.)\\n2. int- int stands for integer. It contained the value like 1,2 ,,...N.\\n3. float- In python, float contains the decimals numbers. for example: 1.2, 3.4...\\n'"
      ]
     },
     "execution_count": 12,
     "metadata": {},
     "output_type": "execute_result"
    }
   ],
   "source": [
    "'''\n",
    "3. Describe three different data types.\n",
    "Answer: In python, there are mainly 4 data types. But, here we will describe only 3 datatypes.\n",
    "1. String (String data type contains the alphabet or groups of alphabet.)\n",
    "2. int- int stands for integer. It contained the value like 1,2 ,,...N.\n",
    "3. float- In python, float contains the decimals numbers. for example: 1.2, 3.4...\n",
    "'''"
   ]
  },
  {
   "cell_type": "code",
   "execution_count": 13,
   "id": "707e9d57",
   "metadata": {},
   "outputs": [
    {
     "data": {
      "text/plain": [
       "'\\n4. What is an expression made up of? What do all expressions do?\\nAnswer: An expression is a combination of values, variables, operators, and calls to functions. Expressions need to be evaluated.\\nAll expression evaluate the values of any variables.\\n'"
      ]
     },
     "execution_count": 13,
     "metadata": {},
     "output_type": "execute_result"
    }
   ],
   "source": [
    "'''\n",
    "4. What is an expression made up of? What do all expressions do?\n",
    "Answer: An expression is a combination of values, variables, operators, and calls to functions. Expressions need to be evaluated.\n",
    "All expression evaluate the values of any variables.\n",
    "'''"
   ]
  },
  {
   "cell_type": "code",
   "execution_count": 14,
   "id": "d7e0ca2a",
   "metadata": {},
   "outputs": [
    {
     "data": {
      "text/plain": [
       "'\\n5. This assignment statements, like spam = 10. What is the difference between an expression and a statement?\\nAnswer: The main difference between expression and a statement is:\\nExpression containes the varibale, operators and calls to fn. It actually evaluate the valye of variables.\\nBut\\nStatement: Statement is the part of our coding which we do  not want to run or execute. We keep them for our better understanding.\\n\\n'"
      ]
     },
     "execution_count": 14,
     "metadata": {},
     "output_type": "execute_result"
    }
   ],
   "source": [
    "'''\n",
    "5. This assignment statements, like spam = 10. What is the difference between an expression and a statement?\n",
    "Answer: The main difference between expression and a statement is:\n",
    "Expression containes the varibale, operators and calls to fn. It actually evaluate the valye of variables.\n",
    "But\n",
    "Statement: Statement is the part of our coding which we do  not want to run or execute. We keep them for our better understanding.\n",
    "\n",
    "'''"
   ]
  },
  {
   "cell_type": "code",
   "execution_count": 15,
   "id": "166ee728",
   "metadata": {},
   "outputs": [
    {
     "data": {
      "text/plain": [
       "23"
      ]
     },
     "execution_count": 15,
     "metadata": {},
     "output_type": "execute_result"
    }
   ],
   "source": [
    "'''\n",
    "6. After running the following code, what does the variable bacon contain?\n",
    "bacon = 22\n",
    "bacon + 1\n",
    "'''\n",
    "bacon = 22\n",
    "bacon + 1 # the result for bacon is 23. It means it is increasing by +1."
   ]
  },
  {
   "cell_type": "code",
   "execution_count": 17,
   "id": "3070499d",
   "metadata": {},
   "outputs": [
    {
     "ename": "SyntaxError",
     "evalue": "unterminated string literal (detected at line 7) (560786000.py, line 7)",
     "output_type": "error",
     "traceback": [
      "\u001b[1;36m  Cell \u001b[1;32mIn[17], line 7\u001b[1;36m\u001b[0m\n\u001b[1;33m    'spam' * 3'\u001b[0m\n\u001b[1;37m              ^\u001b[0m\n\u001b[1;31mSyntaxError\u001b[0m\u001b[1;31m:\u001b[0m unterminated string literal (detected at line 7)\n"
     ]
    }
   ],
   "source": [
    "'''\n",
    "7. What should the values of the following two terms be?\n",
    "'spam' + 'spamspam'\n",
    "'spam' * 3\n",
    "'''\n",
    "'spam' + 'spamspam'\n",
    "'spam' * 3'\n"
   ]
  },
  {
   "cell_type": "code",
   "execution_count": 18,
   "id": "c2485d9a",
   "metadata": {},
   "outputs": [
    {
     "data": {
      "text/plain": [
       "'8. Why is eggs a valid variable name while 100 is invalid?\\nAnswer: Eggs is a valid variable because it statrs from alphabet but 100 is not valid variable because it starts from number\\nAny variable must be starts from alphabets'"
      ]
     },
     "execution_count": 18,
     "metadata": {},
     "output_type": "execute_result"
    }
   ],
   "source": [
    "'''8. Why is eggs a valid variable name while 100 is invalid?\n",
    "Answer: Eggs is a valid variable because it statrs from alphabet but 100 is not valid variable because it starts from number\n",
    "Any variable must be starts from alphabets'''\n"
   ]
  },
  {
   "cell_type": "code",
   "execution_count": 19,
   "id": "82c749ad",
   "metadata": {},
   "outputs": [
    {
     "data": {
      "text/plain": [
       "'9. What three functions can be used to get the integer, floating-point number, or string version of a value?\\nIn Python, you can use the following functions to get the integer, floating-point number, or string version of a value:\\n\\n•  int() function returns the integer version of a value.\\n\\n•  float() function returns the floating-point number version of a value.\\n\\n•  str() function returns the string version of a value.'"
      ]
     },
     "execution_count": 19,
     "metadata": {},
     "output_type": "execute_result"
    }
   ],
   "source": [
    "'''9. What three functions can be used to get the integer, floating-point number, or string version of a value?\n",
    "In Python, you can use the following functions to get the integer, floating-point number, or string version of a value:\n",
    "\n",
    "•  int() function returns the integer version of a value.\n",
    "\n",
    "•  float() function returns the floating-point number version of a value.\n",
    "\n",
    "•  str() function returns the string version of a value.'''"
   ]
  },
  {
   "cell_type": "code",
   "execution_count": 20,
   "id": "ad6320e5",
   "metadata": {},
   "outputs": [
    {
     "ename": "TypeError",
     "evalue": "can only concatenate str (not \"int\") to str",
     "output_type": "error",
     "traceback": [
      "\u001b[1;31m---------------------------------------------------------------------------\u001b[0m",
      "\u001b[1;31mTypeError\u001b[0m                                 Traceback (most recent call last)",
      "Cell \u001b[1;32mIn[20], line 6\u001b[0m\n\u001b[0;32m      1\u001b[0m \u001b[38;5;124;03m'''\u001b[39;00m\n\u001b[0;32m      2\u001b[0m \u001b[38;5;124;03mQuestion-10 \u001b[39;00m\n\u001b[0;32m      3\u001b[0m \u001b[38;5;124;03m10. Why does this expression cause an error? How can you fix it?\u001b[39;00m\n\u001b[0;32m      4\u001b[0m \u001b[38;5;124;03m'I have eaten ' + 99 + ' burritos.'\u001b[39;00m\n\u001b[0;32m      5\u001b[0m \u001b[38;5;124;03m'''\u001b[39;00m\n\u001b[1;32m----> 6\u001b[0m a\u001b[38;5;241m=\u001b[39m\u001b[38;5;124;43m'\u001b[39;49m\u001b[38;5;124;43mI have eaten \u001b[39;49m\u001b[38;5;124;43m'\u001b[39;49m\u001b[43m \u001b[49m\u001b[38;5;241;43m+\u001b[39;49m\u001b[43m \u001b[49m\u001b[38;5;241;43m99\u001b[39;49m \u001b[38;5;241m+\u001b[39m \u001b[38;5;124m'\u001b[39m\u001b[38;5;124m burritos.\u001b[39m\u001b[38;5;124m'\u001b[39m\n\u001b[0;32m      7\u001b[0m Print(a)\n",
      "\u001b[1;31mTypeError\u001b[0m: can only concatenate str (not \"int\") to str"
     ]
    }
   ],
   "source": [
    "'''\n",
    "Question-10 \n",
    "10. Why does this expression cause an error? How can you fix it?\n",
    "'I have eaten ' + 99 + ' burritos.'\n",
    "'''\n",
    "a='I have eaten ' + 99 + ' burritos.'\n",
    "Print(a)"
   ]
  },
  {
   "cell_type": "code",
   "execution_count": null,
   "id": "2631b9a6",
   "metadata": {},
   "outputs": [],
   "source": []
  }
 ],
 "metadata": {
  "kernelspec": {
   "display_name": "Python 3 (ipykernel)",
   "language": "python",
   "name": "python3"
  },
  "language_info": {
   "codemirror_mode": {
    "name": "ipython",
    "version": 3
   },
   "file_extension": ".py",
   "mimetype": "text/x-python",
   "name": "python",
   "nbconvert_exporter": "python",
   "pygments_lexer": "ipython3",
   "version": "3.10.9"
  }
 },
 "nbformat": 4,
 "nbformat_minor": 5
}
