{
 "cells": [
  {
   "cell_type": "code",
   "execution_count": null,
   "id": "492a02e8",
   "metadata": {},
   "outputs": [],
   "source": [
    "pip install --upgrade ipykernel\n",
    "\n",
    "#Question-1 Write a Python program to convert kilometers to miles?\n",
    "\n",
    "dis=int(input(\"Enter the numbers in kilometers\"))\n",
    "miles= float(0.6214*dis)\n",
    "print(\"The value of kilometer to miles is:\" ,miles)\n",
    "\n",
    "\n"
   ]
  },
  {
   "cell_type": "code",
   "execution_count": 21,
   "id": "98c536d3",
   "metadata": {},
   "outputs": [
    {
     "data": {
      "text/plain": [
       "'\\nQuestion-1 Write a Python program to convert kilometers to miles?\\nQuestiion-2 Write a Python program to convert Celsius to Fahrenheit?\\nQuestion-3 Write a Python program to display calendar?\\nQuestion-4 Write a Python program to solve quadratic equation?\\nQuestion-5 Write a Python program to swap two variables without temp variable?\\n'"
      ]
     },
     "execution_count": 21,
     "metadata": {},
     "output_type": "execute_result"
    }
   ],
   "source": [
    "'''\n",
    "Question-1 Write a Python program to convert kilometers to miles?\n",
    "Questiion-2 Write a Python program to convert Celsius to Fahrenheit?\n",
    "Question-3 Write a Python program to display calendar?\n",
    "Question-4 Write a Python program to solve quadratic equation?\n",
    "Question-5 Write a Python program to swap two variables without temp variable?\n",
    "'''"
   ]
  },
  {
   "cell_type": "code",
   "execution_count": null,
   "id": "44fd82f9",
   "metadata": {},
   "outputs": [],
   "source": [
    "#Questiion-2 Write a Python program to convert Celsius to Fahrenheit?\n",
    "temp= float(input(\"Enter the temprature in Celsius\"))\n",
    "Far= (temp*9/5)+32\n",
    "print(\"The value of {temp}in Fahrenheit is:\", Far)\n",
    "\n"
   ]
  },
  {
   "cell_type": "code",
   "execution_count": null,
   "id": "f990d28f",
   "metadata": {},
   "outputs": [],
   "source": [
    "#Question-3 Write a Python program to display calendar?\n",
    "import calendar\n",
    "months=int(input(\"Enter the month\"))\n",
    "year=int(input(\"Enter the year\"))\n",
    "print(calendar.month(year,months))"
   ]
  },
  {
   "cell_type": "code",
   "execution_count": null,
   "id": "af3e8b79",
   "metadata": {},
   "outputs": [],
   "source": [
    "#Question-4 Write a Python program to solve quadratic equation?\n",
    "a=int(input(\"Enter the coffiecient of x square\"))\n",
    "b= int(input(\"Enter the coffiecient of x\"))\n",
    "c=int(input(\"Enter the constant term\"))\n",
    "d= (b**2) - (4*a*c)\n",
    "#d1=(b**2) + (4*a*c)\n",
    "print(d)\n",
    "\n",
    "\n",
    "\n"
   ]
  },
  {
   "cell_type": "code",
   "execution_count": null,
   "id": "56c33eb2",
   "metadata": {},
   "outputs": [],
   "source": [
    "#Question-5 Write a Python program to swap two variables without temp variable?"
   ]
  }
 ],
 "metadata": {
  "kernelspec": {
   "display_name": "Python 3 (ipykernel)",
   "language": "python",
   "name": "python3"
  },
  "language_info": {
   "codemirror_mode": {
    "name": "ipython",
    "version": 3
   },
   "file_extension": ".py",
   "mimetype": "text/x-python",
   "name": "python",
   "nbconvert_exporter": "python",
   "pygments_lexer": "ipython3",
   "version": "3.10.9"
  }
 },
 "nbformat": 4,
 "nbformat_minor": 5
}
