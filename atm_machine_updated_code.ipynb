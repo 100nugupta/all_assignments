{
 "cells": [
  {
   "cell_type": "code",
   "execution_count": 10,
   "id": "3cfa3cac",
   "metadata": {},
   "outputs": [
    {
     "name": "stdout",
     "output_type": "stream",
     "text": [
      "Account_number  5050\n",
      "ATM_pin  5548\n",
      "Account_type  s\n",
      "enter your account number: 5050\n",
      "Enter your atm_pin: 5548\n",
      "Enter the amount that you want to withdrwal: 5000\n",
      "Insufficient balance in your account.\n"
     ]
    }
   ],
   "source": [
    "Account_number = 0\n",
    "ATM_pin = 0\n",
    "Account_type = ''\n",
    "Balance = 0.0\n",
    "\n",
    "with open(\"data.txt\", \"r\") as file:\n",
    "    for line in file:\n",
    "        parts= line.strip().split(\",\")\n",
    "        if len(parts)!=2:\n",
    "            #print(\"Invalid line: \", line)\n",
    "            continue\n",
    "        key, value=parts\n",
    "        print(key,value)\n",
    "        #store all information in variables\n",
    "        if key==\"Account_number\":\n",
    "            Account_number=int(value)\n",
    "        elif key==\"ATM_pin\":\n",
    "            ATM_pin=int(value)\n",
    "        elif key==\"Account_type\":\n",
    "            Account_type= value\n",
    "        elif key==\"Balance\":\n",
    "            Balance=float(value)\n",
    "#Now Account holder will give their account details like account number, pin.\n",
    "acc_num=int(input(\"enter your account number: \"))\n",
    "user_atm_pin=int(input(\"Enter your atm_pin: \"))\n",
    "\n",
    "#now we will verify these credentials entered by user\n",
    "if acc_num==Account_number and user_atm_pin==ATM_pin:\n",
    "    withdrawl_amount=float(input(\"Enter the amount that you want to withdrwal: \"))\n",
    "    if withdrawl_amount<=Balance:\n",
    "        Balance-=withdrawl_amount\n",
    "        update_Balance=Balance-withdrawl_amount\n",
    "        # Update the balance in the original text file\n",
    "        with open(\"data.txt\", \"r\") as file:\n",
    "            lines = file.readlines()\n",
    "        \n",
    "        with open(\"data.txt\", \"w\") as file:\n",
    "        \n",
    "       \n",
    "            for line in lines:\n",
    "                if line.startswith(\"Balance\"):\n",
    "                    file.write(f\"Balance, {updated_Balance}\\n\")\n",
    "                else:\n",
    "                    file.write(line)\n",
    "            \n",
    "        #now we will update the amount in our database.\n",
    "        #with open(\"data.txt\", \"w\") as file:\n",
    "            #file.write(f\"Account_number, {Account_number}\")\n",
    "            #file.write(f\"ATM_pin, {ATM_pin}\")\n",
    "            #file.write(f\"Account_type, {Account_type}\")\n",
    "            #file.write(f\"Balance,{Balance}\")\n",
    "            #Now we will inform the user that you have successfully withdrawn the amount and we will update the file\n",
    "            print(f\"Withdrawl successfull. You remaining balance is:\", update_Balance)\n",
    "    else:\n",
    "        print(\"Insufficient balance in your account.\")\n",
    "else:\n",
    "    print(\"Invalid Credentials. Please enter the valid inputs\")\n",
    "    \n"
   ]
  },
  {
   "cell_type": "code",
   "execution_count": 2,
   "id": "e5592e66",
   "metadata": {},
   "outputs": [
    {
     "data": {
      "text/plain": [
       "'C:\\\\Users\\\\admin\\\\OneDrive\\\\Desktop'"
      ]
     },
     "execution_count": 2,
     "metadata": {},
     "output_type": "execute_result"
    }
   ],
   "source": []
  }
 ],
 "metadata": {
  "kernelspec": {
   "display_name": "Python 3 (ipykernel)",
   "language": "python",
   "name": "python3"
  },
  "language_info": {
   "codemirror_mode": {
    "name": "ipython",
    "version": 3
   },
   "file_extension": ".py",
   "mimetype": "text/x-python",
   "name": "python",
   "nbconvert_exporter": "python",
   "pygments_lexer": "ipython3",
   "version": "3.10.9"
  }
 },
 "nbformat": 4,
 "nbformat_minor": 5
}
