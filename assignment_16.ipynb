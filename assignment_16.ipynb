{
  "nbformat": 4,
  "nbformat_minor": 0,
  "metadata": {
    "colab": {
      "provenance": []
    },
    "kernelspec": {
      "name": "python3",
      "display_name": "Python 3"
    },
    "language_info": {
      "name": "python"
    }
  },
  "cells": [
    {
      "cell_type": "code",
      "execution_count": null,
      "metadata": {
        "colab": {
          "base_uri": "https://localhost:8080/"
        },
        "id": "23w5A_m7vT2h",
        "outputId": "e8cea88c-a463-4cdf-df76-c1195445a8f9"
      },
      "outputs": [
        {
          "output_type": "stream",
          "name": "stdout",
          "text": [
            "enter the word: enthusiastic\n",
            "en.. en... enthusiastic?\n"
          ]
        }
      ],
      "source": [
        "'''\n",
        "Question1. Write a function that stutters a word as if someone is struggling to read it. \n",
        "The first two letters are repeated twice with an ellipsis ... and space after each, and then the word is pronounced with a question mark ?.\n",
        "'''\n",
        "\n",
        "user_input=input(\"enter the word: \")\n",
        "s=(user_input[:2] +'..'+' '+user_input[:2]+'...'+' '+user_input[:]+ '?')\n",
        "print(s)\n",
        "\n"
      ]
    },
    {
      "cell_type": "code",
      "source": [
        "'''Question-1: Using function'''\n",
        "#user_inputs=input(\"enter the word: \")\n",
        "def stutters(user_inputs):\n",
        "  return (user_inputs[:2] +'..'+' '+user_inputs[:2]+'...'+' '+user_inputs[:]+ '?')\n",
        "print(stutters(\"incredible\"))\n",
        "\n",
        "\n",
        "\n"
      ],
      "metadata": {
        "colab": {
          "base_uri": "https://localhost:8080/"
        },
        "id": "DDTX4ZL7xrEe",
        "outputId": "fb6921ad-0085-48bc-d83a-40e50fee3846"
      },
      "execution_count": null,
      "outputs": [
        {
          "output_type": "stream",
          "name": "stdout",
          "text": [
            "in.. in... incredible?\n"
          ]
        }
      ]
    },
    {
      "cell_type": "code",
      "source": [
        "'''Question 2.Create a function that takes an angle in radians and returns the corresponding angle in degrees rounded to one decimal place.'''\n",
        "\n",
        "#Program without function\n",
        "# 1 radian=(180/pi) degrees\n",
        "\n",
        "user_input=int(input(\"enter the angles : \"))\n",
        "pi=3.14\n",
        "radian= float((user_input)*180/pi)\n",
        "print (round(radian,2))\n",
        "\n"
      ],
      "metadata": {
        "colab": {
          "base_uri": "https://localhost:8080/"
        },
        "id": "6xVmIWBlzfxR",
        "outputId": "548ef908-1db3-4f96-efe9-1c04eff74dd2"
      },
      "execution_count": null,
      "outputs": [
        {
          "output_type": "stream",
          "name": "stdout",
          "text": [
            "enter the angles : 20\n",
            "1146.5\n"
          ]
        }
      ]
    },
    {
      "cell_type": "code",
      "source": [
        "#same program using function:\n",
        "def radian_to_angle(angle):\n",
        "  pi=3.14\n",
        "  return float((user_input)*180/pi)\n",
        "print(round(radian_to_angle(20),2))\n"
      ],
      "metadata": {
        "colab": {
          "base_uri": "https://localhost:8080/"
        },
        "id": "pNcbuBKw2m-0",
        "outputId": "4ddf9fc1-4694-4639-809e-ebe5d17869bb"
      },
      "execution_count": null,
      "outputs": [
        {
          "output_type": "stream",
          "name": "stdout",
          "text": [
            "1146.5\n"
          ]
        }
      ]
    },
    {
      "cell_type": "code",
      "source": [
        "'''Question 3. In this challenge, establish if a given integer num is a Curzon number. If 1 plus 2 elevated to num is exactly divisible by 1 plus 2 multiplied by num, then num is a Curzon number.\n",
        "Given a non-negative integer num, implement a function that returns True if num is a Curzon number, or False otherwise.\n",
        "'''\n"
      ],
      "metadata": {
        "id": "i_jxJI3G3jsu"
      },
      "execution_count": null,
      "outputs": []
    },
    {
      "cell_type": "code",
      "source": [
        "N=int(input(\"Enter the number: \"))\n",
        "if (2**N+1)%(2*N+1)==0:\n",
        "  print(f'{N} is a curzon number')\n",
        "else:\n",
        "  print(f'{N} is not a curzon number')\n"
      ],
      "metadata": {
        "colab": {
          "base_uri": "https://localhost:8080/"
        },
        "id": "_923cS1t3tMc",
        "outputId": "8cd56863-670f-4441-9683-66098ec56089"
      },
      "execution_count": 3,
      "outputs": [
        {
          "output_type": "stream",
          "name": "stdout",
          "text": [
            "Enter the number: 10\n",
            "10 is not a curzon number\n"
          ]
        }
      ]
    },
    {
      "cell_type": "code",
      "source": [
        "#same question using function\n",
        "\n",
        "def is_curzon(Num):\n",
        "  if (2**Num+1)%(2*Num+1)==0:\n",
        "    print(f\"{Num} is  a curzon number\") \n",
        "  else:\n",
        "    print(f\"{Num} is not a curzon number\") \n",
        "is_curzon(5)\n"
      ],
      "metadata": {
        "colab": {
          "base_uri": "https://localhost:8080/"
        },
        "id": "v2lr-EufkzTZ",
        "outputId": "012fbead-f0a8-45b6-fc5c-3f7f9b4e6bd9"
      },
      "execution_count": 9,
      "outputs": [
        {
          "output_type": "stream",
          "name": "stdout",
          "text": [
            "5 is  a curzon number\n"
          ]
        }
      ]
    },
    {
      "cell_type": "code",
      "source": [
        "'''Question 4.Given the side length x find the area of a hexagon.\n",
        "A=((3root3)s^2)/2  Here s is the side's length\n",
        "'''\n",
        "import math\n",
        "s=float(input(\"Enter the length of the side of hexagon: \"))\n",
        "\n",
        "\n",
        "a= (3* math.sqrt(3)*s**2)/2\n",
        "\n",
        "\n",
        "\n",
        "\n",
        "print(round(a,2))\n",
        "\n"
      ],
      "metadata": {
        "colab": {
          "base_uri": "https://localhost:8080/"
        },
        "id": "W5wGU2gBl9lT",
        "outputId": "f05c660c-a7d0-47d4-e902-e8fcf29456ad"
      },
      "execution_count": 17,
      "outputs": [
        {
          "output_type": "stream",
          "name": "stdout",
          "text": [
            "Enter the length of the side of hexagon: 2\n",
            "10.39\n"
          ]
        }
      ]
    },
    {
      "cell_type": "code",
      "source": [
        "#same question using function:\n",
        "\n",
        "import math\n",
        "\n",
        "def area_hexagon(l):\n",
        "  a= (3* math.sqrt(3)*l**2)/2\n",
        "  return a\n",
        "print(round(area_hexagon(2),2))\n",
        "\n"
      ],
      "metadata": {
        "colab": {
          "base_uri": "https://localhost:8080/"
        },
        "id": "ug-vNO3Ep_nQ",
        "outputId": "50c2b488-380e-46ab-9b5d-9e6d32218a29"
      },
      "execution_count": 20,
      "outputs": [
        {
          "output_type": "stream",
          "name": "stdout",
          "text": [
            "10.39\n"
          ]
        }
      ]
    },
    {
      "cell_type": "code",
      "source": [
        "'''Question 5. Create a function that returns a base-2 (binary) representation of a base-10 (decimal) string number. \n",
        "To convert is simple: ((2) means base-2 and (10) means base-10) 010101001(2) = 1 + 8 + 32 + 128.\n",
        "Going from right to left, the value of the most right bit is 1, now from that every bit to the left will be x2 the value, value of an 8 bit binary numbers are (256, 128, 64, 32, 16, 8, 4, 2, 1).\n",
        "'''\n",
        "\n",
        "\n",
        "\n",
        "\n"
      ],
      "metadata": {
        "colab": {
          "base_uri": "https://localhost:8080/"
        },
        "id": "UcnsjYQErBxQ",
        "outputId": "7e62804b-03e3-46c9-83e3-52b13cbcc6da"
      },
      "execution_count": 21,
      "outputs": [
        {
          "output_type": "stream",
          "name": "stdout",
          "text": [
            "Enter the decimal number base of 10:  17\n",
            "1\n"
          ]
        }
      ]
    }
  ]
}