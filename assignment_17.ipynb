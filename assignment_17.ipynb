{
  "nbformat": 4,
  "nbformat_minor": 0,
  "metadata": {
    "colab": {
      "provenance": []
    },
    "kernelspec": {
      "name": "python3",
      "display_name": "Python 3"
    },
    "language_info": {
      "name": "python"
    }
  },
  "cells": [
    {
      "cell_type": "code",
      "execution_count": null,
      "metadata": {
        "colab": {
          "base_uri": "https://localhost:8080/"
        },
        "id": "Bcll9Utwwy0m",
        "outputId": "cc284309-140f-476b-ecd5-fd16c82e8193"
      },
      "outputs": [
        {
          "output_type": "stream",
          "name": "stdout",
          "text": [
            "30\n"
          ]
        }
      ],
      "source": [
        "'''Question1. Create a function that takes three arguments a, b, c and returns the sum of the numbers that are evenly divided by c from the range a, b inclusive.\n",
        "Examples\n",
        "evenly_divisible(1, 10, 20) ➞ 0\n",
        "# No number between 1 and 10 can be evenly divided by 20.\n",
        "\n",
        "evenly_divisible(1, 10, 2) ➞ 30\n",
        "# 2 + 4 + 6 + 8 + 10 = 30\n",
        "\n",
        "evenly_divisible(1, 10, 3) ➞ 18\n",
        "# 3 + 6 + 9 = 18\n",
        "'''\n",
        "\n",
        "def agrument(a,b,c):\n",
        "  total=0\n",
        "  for num in range(a,b+1):\n",
        "    if num%c==0:\n",
        "      total+=num\n",
        "    \n",
        "  print(total)\n",
        "agrument(1,10,2)\n",
        "\n"
      ]
    },
    {
      "cell_type": "code",
      "source": [
        "'''Question2. Create a function that returns True if a given inequality expression is correct and False otherwise.\n",
        "Examples\n",
        "correct_signs(\"3 < 7 < 11\") ➞ True\n",
        "\n",
        "correct_signs(\"13 > 44 > 33 > 1\") ➞ False\n",
        "\n",
        "correct_signs(\"1 < 2 < 6 < 9 > 3\") ➞ True'''\n",
        "\n",
        "def inequality_correct(expression):\n",
        "  return eval(expression)\n",
        "\n",
        "inequality_correct(\"8 < 7 < 11\")\n",
        "\n"
      ],
      "metadata": {
        "colab": {
          "base_uri": "https://localhost:8080/"
        },
        "id": "blWQ4BaM5bLk",
        "outputId": "a7c977fa-7a13-4ad6-ace8-db6e7d5de1c7"
      },
      "execution_count": null,
      "outputs": [
        {
          "output_type": "execute_result",
          "data": {
            "text/plain": [
              "False"
            ]
          },
          "metadata": {},
          "execution_count": 14
        }
      ]
    },
    {
      "cell_type": "code",
      "source": [
        "'''Question3. Create a function that replaces all the vowels in a string with a specified character.\n",
        "Examples\n",
        "replace_vowels(\"the aardvark\", \"#\") ➞ \"th# ##rdv#rk\"\n",
        "\n",
        "replace_vowels(\"minnie mouse\", \"?\") ➞ \"m?nn?? m??s?\"\n",
        "\n",
        "replace_vowels(\"shakespeare\", \"*\") ➞ \"sh*k*sp**r*\"\n",
        "'''\n",
        "\n",
        "def replace_vowel(string, character):\n",
        "  vowel=\"a,e,i,o,u,A,E,I,O,U\"\n",
        "  replace_string=\"\"\n",
        "  for char in string:\n",
        "    if char in vowel:\n",
        "      replace_string+=character\n",
        "    else:\n",
        "      replace_string+=char\n",
        "  return replace_string\n",
        "print(replace_vowel(\"the aardvark\", \"#\"))\n",
        "\n"
      ],
      "metadata": {
        "colab": {
          "base_uri": "https://localhost:8080/"
        },
        "id": "9QL5e0ha5bI6",
        "outputId": "6cba1150-ad27-40d9-e787-6a84dd456958"
      },
      "execution_count": null,
      "outputs": [
        {
          "output_type": "stream",
          "name": "stdout",
          "text": [
            "th# ##rdv#rk\n"
          ]
        }
      ]
    },
    {
      "cell_type": "code",
      "source": [
        "'''Question4. Write a function that calculates the factorial of a number recursively.\n",
        "Examples\n",
        "factorial(5) ➞ 120\n",
        "\n",
        "factorial(3) ➞ 6\n",
        "\n",
        "factorial(1) ➞ 1\n",
        "\n",
        "factorial(0) ➞ 1\n",
        "'''\n",
        "\n"
      ],
      "metadata": {
        "id": "Xca9RXemWRTE"
      },
      "execution_count": null,
      "outputs": []
    },
    {
      "cell_type": "code",
      "source": [
        "def fact(n):\n",
        "  if n==0:\n",
        "    return 1\n",
        "  else:\n",
        "    return n*fact(n-1)\n",
        "\n",
        "#print (f\"The factorial {n} is: \")\n",
        "print(fact(5))\n",
        "\n",
        "\n"
      ],
      "metadata": {
        "colab": {
          "base_uri": "https://localhost:8080/"
        },
        "id": "33i12jwPWWLa",
        "outputId": "621d53fa-325a-4db6-e2b9-6b995fd106bd"
      },
      "execution_count": null,
      "outputs": [
        {
          "output_type": "stream",
          "name": "stdout",
          "text": [
            "120\n"
          ]
        }
      ]
    }
  ]
}