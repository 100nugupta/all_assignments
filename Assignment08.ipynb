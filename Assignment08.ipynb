{
 "cells": [
  {
   "cell_type": "code",
   "execution_count": 3,
   "id": "46c164b8",
   "metadata": {},
   "outputs": [
    {
     "name": "stdout",
     "output_type": "stream",
     "text": [
      "[46, 25, 35]\n",
      "[17, 60, 19]\n",
      "[21, 38, 45]\n"
     ]
    }
   ],
   "source": [
    "#Write a Python Program to Add Two Matrices?\n",
    "x=[[1,2,3],\n",
    "   [5,6,7,],\n",
    "   [9,6,1]]\n",
    "y=[[45,23,32],\n",
    "   [12,54,12],\n",
    "   [12,32,44]]\n",
    "result=[[0,0,0],\n",
    "        [0,0,0],\n",
    "        [0,0,0]]\n",
    "#Now we will iterate all the rows \n",
    "for i in range(len(x)):\n",
    "    #We will iterate all the columns\n",
    "    for j in range(len(x[0])):\n",
    "        result[i][j]=x[i][j]+y[i][j]\n",
    "for r in result:\n",
    "    print(r)\n",
    "    "
   ]
  },
  {
   "cell_type": "code",
   "execution_count": 10,
   "id": "d067664e",
   "metadata": {},
   "outputs": [
    {
     "name": "stdout",
     "output_type": "stream",
     "text": [
      "The product of both matrices are: [45, 46, 96]\n",
      "The product of both matrices are: [60, 324, 84]\n",
      "The product of both matrices are: [108, 192, 44]\n"
     ]
    }
   ],
   "source": [
    "#Write a Python Program to Multiply Two Matrices?\n",
    "x=[[1,2,3],\n",
    "   [5,6,7,],\n",
    "   [9,6,1]]\n",
    "y=[[45,23,32],\n",
    "   [12,54,12],\n",
    "   [12,32,44]]\n",
    "mul=[[1,1,1],\n",
    "        [1,1,1],\n",
    "        [1,1,1]]\n",
    "for i in range(len(x)):\n",
    "    #We will iterate all the columns\n",
    "    for j in range(len(x[0])):\n",
    "        mul[i][j]=x[i][j]*y[i][j]\n",
    "for m in mul:\n",
    "    print(\"The product of both matrices are:\", m)\n",
    "    #print(f\"The product of {x} and {y} is {m}\")\n"
   ]
  },
  {
   "cell_type": "code",
   "execution_count": 14,
   "id": "ac9d478c",
   "metadata": {},
   "outputs": [
    {
     "name": "stdout",
     "output_type": "stream",
     "text": [
      "The Transpose of the matrix is: [1, 5, 9]\n",
      "The Transpose of the matrix is: [2, 6, 6]\n",
      "The Transpose of the matrix is: [3, 7, 1]\n"
     ]
    }
   ],
   "source": [
    "#Write a Python Program to Transpose a Matrix?\n",
    "x=[[1,2,3],\n",
    "   [5,6,7,],\n",
    "   [9,6,1]]\n",
    "result=[[0,0,0],\n",
    "        [0,0,0],\n",
    "        [0,0,0]]\n",
    "for i in range(len(x)):\n",
    "    #We will iterate all the columns\n",
    "    for j in range(len(x[0])):\n",
    "        result[i][j]=x[j][i]\n",
    "for transpose in result:\n",
    "    print(\"The Transpose of the matrix is:\",transpose)\n",
    "    \n",
    "\n"
   ]
  },
  {
   "cell_type": "code",
   "execution_count": 19,
   "id": "97da9f6c",
   "metadata": {},
   "outputs": [
    {
     "name": "stdout",
     "output_type": "stream",
     "text": [
      "Enter the number of words: 2\n",
      "sonu\n",
      "['sonu']\n",
      "kumar\n"
     ]
    },
    {
     "ename": "IndexError",
     "evalue": "list index out of range",
     "output_type": "error",
     "traceback": [
      "\u001b[1;31m---------------------------------------------------------------------------\u001b[0m",
      "\u001b[1;31mIndexError\u001b[0m                                Traceback (most recent call last)",
      "Cell \u001b[1;32mIn[19], line 7\u001b[0m\n\u001b[0;32m      4\u001b[0m words\u001b[38;5;241m=\u001b[39m\u001b[38;5;28minput\u001b[39m()\u001b[38;5;241m.\u001b[39msplit(\u001b[38;5;124m\"\u001b[39m\u001b[38;5;124m \u001b[39m\u001b[38;5;124m\"\u001b[39m)\n\u001b[0;32m      5\u001b[0m \u001b[38;5;28;01mfor\u001b[39;00m j \u001b[38;5;129;01min\u001b[39;00m \u001b[38;5;28mrange\u001b[39m(\u001b[38;5;28mlen\u001b[39m(words)):\n\u001b[0;32m      6\u001b[0m     \u001b[38;5;66;03m#convert all the letter in lowercase\u001b[39;00m\n\u001b[1;32m----> 7\u001b[0m     words[i]\u001b[38;5;241m=\u001b[39m\u001b[43mwords\u001b[49m\u001b[43m[\u001b[49m\u001b[43mi\u001b[49m\u001b[43m]\u001b[49m\u001b[38;5;241m.\u001b[39mlower()\n\u001b[0;32m      8\u001b[0m     \u001b[38;5;28mprint\u001b[39m(\u001b[38;5;28msorted\u001b[39m(words))\n",
      "\u001b[1;31mIndexError\u001b[0m: list index out of range"
     ]
    }
   ],
   "source": [
    "#Write a Python Program to Sort Words in Alphabetic Order?\n",
    "n=int(input(\"Enter the number of words: \"))\n",
    "for i in range(0,n):\n",
    "    words=input().split(\" \")\n",
    "    for j in range(len(words)):\n",
    "        #convert all the letter in lowercase\n",
    "        words[i]=words[i].lower()\n",
    "        print(sorted(words))\n",
    "        \n"
   ]
  },
  {
   "cell_type": "code",
   "execution_count": 25,
   "id": "1a08871c",
   "metadata": {},
   "outputs": [
    {
     "name": "stdout",
     "output_type": "stream",
     "text": [
      "Enter the string: abhishesk rathore bachan\n",
      "The sorted words are:  abhishesk bachan rathore\n"
     ]
    }
   ],
   "source": [
    "string=input(\"Enter the string: \")\n",
    "words=string.split()\n",
    "words.sort()\n",
    "#for i in words:\n",
    "    #print(\"The sorted words are: \")\n",
    "    #print(i.join())\n",
    "print(\"The sorted words are: \", \" \".join(words))\n"
   ]
  },
  {
   "cell_type": "code",
   "execution_count": 28,
   "id": "2ba1dcd6",
   "metadata": {},
   "outputs": [
    {
     "name": "stdout",
     "output_type": "stream",
     "text": [
      "Enter the string: sonfu!$ akjd!@\n",
      "sonfuakjd\n"
     ]
    }
   ],
   "source": [
    "#Write a Python Program to Remove Punctuation From a String?\n",
    "string=input(\"Enter the string: \")\n",
    "punc= '''!()-[]{};:'\"\\,<>./?@#$%^&*_~'''\n",
    "string_without_punctuation=\"\"\n",
    "for char in string:\n",
    "    if char not in punc:\n",
    "        string_without_punctuation+=char\n",
    "print(string_without_punctuation)\n",
    "        \n",
    "              "
   ]
  }
 ],
 "metadata": {
  "kernelspec": {
   "display_name": "Python 3 (ipykernel)",
   "language": "python",
   "name": "python3"
  },
  "language_info": {
   "codemirror_mode": {
    "name": "ipython",
    "version": 3
   },
   "file_extension": ".py",
   "mimetype": "text/x-python",
   "name": "python",
   "nbconvert_exporter": "python",
   "pygments_lexer": "ipython3",
   "version": "3.10.9"
  }
 },
 "nbformat": 4,
 "nbformat_minor": 5
}
