{
 "cells": [
  {
   "cell_type": "code",
   "execution_count": 8,
   "id": "c091290c",
   "metadata": {},
   "outputs": [
    {
     "data": {
      "text/plain": [
       "'Question1\\nCreate a function that takes three integer arguments (a, b, c) and returns the amount of integers which are of equal value.\\n'"
      ]
     },
     "execution_count": 8,
     "metadata": {},
     "output_type": "execute_result"
    }
   ],
   "source": [
    "'''Question1\n",
    "Create a function that takes three integer arguments (a, b, c) and returns the amount of integers which are of equal value.\n",
    "'''"
   ]
  },
  {
   "cell_type": "code",
   "execution_count": 17,
   "id": "a4130cf0",
   "metadata": {},
   "outputs": [
    {
     "data": {
      "text/plain": [
       "2"
      ]
     },
     "execution_count": 17,
     "metadata": {},
     "output_type": "execute_result"
    }
   ],
   "source": [
    "def equal(a, b, c):\n",
    "    count = 0\n",
    "    if a == b == c:\n",
    "        return 3\n",
    "    if a==b or b==c or c==a:\n",
    "        return 2\n",
    "    else:\n",
    "        return 0\n",
    "equal(3,4,3)"
   ]
  },
  {
   "cell_type": "code",
   "execution_count": 18,
   "id": "e74d62e2",
   "metadata": {},
   "outputs": [
    {
     "data": {
      "text/plain": [
       "'Question:2 '"
      ]
     },
     "execution_count": 18,
     "metadata": {},
     "output_type": "execute_result"
    }
   ],
   "source": [
    "'''Question:2\n",
    "Write a function that converts a dictionary into a list of keys-values tuples. '''"
   ]
  },
  {
   "cell_type": "code",
   "execution_count": 31,
   "id": "686aa054",
   "metadata": {},
   "outputs": [
    {
     "name": "stdout",
     "output_type": "stream",
     "text": [
      "[('address', 'faridabad'), ('age', 9), ('name', 'sonu')]\n"
     ]
    }
   ],
   "source": [
    "def convert_dict(dictionary):\n",
    "    return sorted(list(dictionary.items()))\n",
    "\n",
    "dict1={\"name\":\"sonu\", \"age\":9, \"address\":\"faridabad\"}\n",
    "result= convert_dict(dict1)\n",
    "print (result)\n"
   ]
  },
  {
   "cell_type": "code",
   "execution_count": null,
   "id": "a45f7c3a",
   "metadata": {},
   "outputs": [],
   "source": [
    "'''\n",
    "Question3\n",
    "Write a function that creates a dictionary with each (key, value) pair being the (lower case, upper case) versions of a letter, respectively.\n",
    "'''\n",
    "'''Examples\n",
    "mapping([\"p\", \"s\"]) ➞ { \"p\": \"P\", \"s\": \"S\" }\n",
    "\n",
    "mapping([\"a\", \"b\", \"c\"]) ➞ { \"a\": \"A\", \"b\": \"B\", \"c\": \"C\" }\n",
    "\n",
    "mapping([\"a\", \"v\", \"y\", \"z\"]) ➞ { \"a\": \"A\", \"v\": \"V\", \"y\": \"Y\", \"z\": \"Z\" }\n",
    "Notes\n",
    "All of the letters in the input list will always be lowercase.\n",
    "'''"
   ]
  },
  {
   "cell_type": "code",
   "execution_count": 33,
   "id": "ae54f737",
   "metadata": {},
   "outputs": [],
   "source": [
    "def create_letter_dict():\n",
    "    letter_dict={}\n",
    "    for letter in range(ord('a'), ord('z')+1):\n",
    "        lowercase_letter=chr(letter)\n",
    "        upper_letter=lowercase_letter.upper()\n",
    "        letter_dict[lowercase_letter]=upper_letter\n",
    "    return letter_dict"
   ]
  },
  {
   "cell_type": "code",
   "execution_count": null,
   "id": "f1dc76ad",
   "metadata": {},
   "outputs": [],
   "source": []
  },
  {
   "cell_type": "code",
   "execution_count": 34,
   "id": "8eccf588",
   "metadata": {},
   "outputs": [
    {
     "name": "stdout",
     "output_type": "stream",
     "text": [
      "{'a': 'A', 'b': 'B', 'c': 'C', 'd': 'D', 'e': 'E', 'f': 'F', 'g': 'G', 'h': 'H', 'i': 'I', 'j': 'J', 'k': 'K', 'l': 'L', 'm': 'M', 'n': 'N', 'o': 'O', 'p': 'P', 'q': 'Q', 'r': 'R', 's': 'S', 't': 'T', 'u': 'U', 'v': 'V', 'w': 'W', 'x': 'X', 'y': 'Y', 'z': 'Z'}\n"
     ]
    }
   ],
   "source": [
    "letter_dictionary=create_letter_dict()\n",
    "print(letter_dictionary)"
   ]
  },
  {
   "cell_type": "code",
   "execution_count": null,
   "id": "848084b7",
   "metadata": {},
   "outputs": [],
   "source": [
    "'''Question4\n",
    "Write a function, that replaces all vowels in a string with a specified vowel.\n",
    "Examples\n",
    "vow_replace(\"apples and bananas\", \"u\") ➞ \"upplus und bununus\"\n",
    "\n",
    "vow_replace(\"cheese casserole\", \"o\") ➞ \"chooso cossorolo\"\n",
    "\n",
    "vow_replace(\"stuffed jalapeno poppers\", \"e\") ➞ \"steffed jelepene peppers\"\n",
    "Notes\n",
    "All words will be lowercase. Y is not considered a vowel.\n",
    "'''"
   ]
  },
  {
   "cell_type": "code",
   "execution_count": 39,
   "id": "5f138cc7",
   "metadata": {},
   "outputs": [
    {
     "name": "stdout",
     "output_type": "stream",
     "text": [
      "sunu kumur\n",
      "upplu us bununu\n"
     ]
    }
   ],
   "source": [
    "def replace_vowels(sentence, vowel):\n",
    "    vowels='a,e,i,o,u'\n",
    "    result=''\n",
    "    for i in sentence:\n",
    "        if i in vowels:\n",
    "            result += vowel\n",
    "        else:\n",
    "            result += i\n",
    "    return result\n",
    "print(replace_vowels('sonu kumar', 'u'))\n",
    "print(replace_vowels('apple is banana', 'u'))"
   ]
  },
  {
   "cell_type": "code",
   "execution_count": null,
   "id": "7ff760fb",
   "metadata": {},
   "outputs": [],
   "source": [
    "'''\n",
    "Question5\n",
    "Create a function that takes a string as input and capitalizes a letter if its ASCII code is even and returns its lower case version if its ASCII code is odd.\n",
    "Examples\n",
    "ascii_capitalize(\"to be or not to be!\") ➞ \"To Be oR NoT To Be!\"\n",
    "\n",
    "ascii_capitalize(\"THE LITTLE MERMAID\") ➞ \"THe LiTTLe meRmaiD\"\n",
    "\n",
    "ascii_capitalize(\"Oh what a beautiful morning.\") ➞ \"oH wHaT a BeauTiFuL moRNiNg.\"\n",
    "'''"
   ]
  },
  {
   "cell_type": "code",
   "execution_count": 40,
   "id": "d3c18429",
   "metadata": {},
   "outputs": [
    {
     "name": "stdout",
     "output_type": "stream",
     "text": [
      "THe LiTTLe meRmaiD\n"
     ]
    }
   ],
   "source": [
    "def capitalize(string):\n",
    "    result=''\n",
    "    for char in string:\n",
    "        if ord(char)%2==0:\n",
    "            result +=char.upper()\n",
    "        else:\n",
    "            result += char.lower()\n",
    "    return result\n",
    "\n",
    "print(capitalize(\"THE LITTLE MERMAID\"))"
   ]
  }
 ],
 "metadata": {
  "kernelspec": {
   "display_name": "Python 3 (ipykernel)",
   "language": "python",
   "name": "python3"
  },
  "language_info": {
   "codemirror_mode": {
    "name": "ipython",
    "version": 3
   },
   "file_extension": ".py",
   "mimetype": "text/x-python",
   "name": "python",
   "nbconvert_exporter": "python",
   "pygments_lexer": "ipython3",
   "version": "3.10.9"
  }
 },
 "nbformat": 4,
 "nbformat_minor": 5
}
