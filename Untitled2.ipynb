{
 "cells": [
  {
   "cell_type": "code",
   "execution_count": 2,
   "id": "2045a5a2",
   "metadata": {},
   "outputs": [
    {
     "data": {
      "text/plain": [
       "'Hello World@'"
      ]
     },
     "execution_count": 2,
     "metadata": {},
     "output_type": "execute_result"
    }
   ],
   "source": [
    "a='Hello World!'\n",
    "a.replace('!','@')\n"
   ]
  },
  {
   "cell_type": "code",
   "execution_count": 8,
   "id": "ec786c21",
   "metadata": {},
   "outputs": [
    {
     "name": "stdout",
     "output_type": "stream",
     "text": [
      "False\n"
     ]
    }
   ],
   "source": [
    "text='I am mango man'\n",
    "x= 'am'not in text\n",
    "print(x)"
   ]
  },
  {
   "cell_type": "code",
   "execution_count": 27,
   "id": "a8f2dc8b",
   "metadata": {},
   "outputs": [
    {
     "name": "stdout",
     "output_type": "stream",
     "text": [
      "hello world take care\n"
     ]
    }
   ],
   "source": [
    "a='hello world'\n",
    "b='take care'\n",
    "c=a +\" \"+ b\n",
    "#print(a+\" \"+b)\n",
    "print(c)\n",
    "\n"
   ]
  },
  {
   "cell_type": "code",
   "execution_count": 37,
   "id": "6f6137fd",
   "metadata": {},
   "outputs": [
    {
     "name": "stdout",
     "output_type": "stream",
     "text": [
      "I am Sonu kumar, and my age is 45\n"
     ]
    }
   ],
   "source": [
    "'''age=45\n",
    "intro= 'I am Sonu kumar, and my age is {}'\n",
    "'''\n",
    "\n",
    "#print(result)\n",
    "#We are getting error because we can concatenate the same datatypes objects\n",
    "#To overcome with these issues we use 'Format'\n",
    "\n",
    "age=45\n",
    "intro='I am Sonu kumar, and my age is {}'\n",
    "#result= intro+age\n",
    "print(intro.format(age))"
   ]
  },
  {
   "cell_type": "code",
   "execution_count": 41,
   "id": "2b6f823c",
   "metadata": {},
   "outputs": [
    {
     "name": "stdout",
     "output_type": "stream",
     "text": [
      "I want 45 on 450 at 0.45 profit\n"
     ]
    }
   ],
   "source": [
    "amt=45\n",
    "quant=450\n",
    "profit=0.45\n",
    "bus='I want {} on {} at {} profit'\n",
    "print(bus.format(amt,quant,profit))\n"
   ]
  },
  {
   "cell_type": "code",
   "execution_count": 44,
   "id": "3ec5590a",
   "metadata": {},
   "outputs": [
    {
     "name": "stdout",
     "output_type": "stream",
     "text": [
      "I want {0},and {1}, and {2}\n"
     ]
    }
   ],
   "source": [
    "amt=45\n",
    "quant=450\n",
    "profit=0.45\n",
    "bus='I want {0},and {1}, and {2}'\n",
    "print(bus)"
   ]
  },
  {
   "cell_type": "code",
   "execution_count": 54,
   "id": "84d426be",
   "metadata": {},
   "outputs": [
    {
     "name": "stdout",
     "output_type": "stream",
     "text": [
      "my name is \"SONU\".\n"
     ]
    }
   ],
   "source": [
    "name=\"my name is \\\"SONU\\\".\"\n",
    "print(name)"
   ]
  },
  {
   "cell_type": "code",
   "execution_count": 72,
   "id": "6708061b",
   "metadata": {},
   "outputs": [
    {
     "name": "stdout",
     "output_type": "stream",
     "text": [
      "RAGHAV\n"
     ]
    }
   ],
   "source": [
    "#some important method\n",
    "#1.capitalize() >>>Converts the first character to upper case\n",
    "name='raghav'\n",
    "name.capitalize()\n",
    "\n",
    "#2.casefold() >>> convert string into lower case\n",
    "name='raghav'\n",
    "name.casefold()\n",
    "name1='RAGHAV' #>> here it will convert upper to lower case\n",
    "name1.casefold()\n",
    "print(name1)\n",
    "\n"
   ]
  }
 ],
 "metadata": {
  "kernelspec": {
   "display_name": "Python 3 (ipykernel)",
   "language": "python",
   "name": "python3"
  },
  "language_info": {
   "codemirror_mode": {
    "name": "ipython",
    "version": 3
   },
   "file_extension": ".py",
   "mimetype": "text/x-python",
   "name": "python",
   "nbconvert_exporter": "python",
   "pygments_lexer": "ipython3",
   "version": "3.10.9"
  }
 },
 "nbformat": 4,
 "nbformat_minor": 5
}
