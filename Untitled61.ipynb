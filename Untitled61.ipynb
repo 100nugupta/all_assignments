{
  "nbformat": 4,
  "nbformat_minor": 0,
  "metadata": {
    "colab": {
      "provenance": []
    },
    "kernelspec": {
      "name": "python3",
      "display_name": "Python 3"
    },
    "language_info": {
      "name": "python"
    }
  },
  "cells": [
    {
      "cell_type": "code",
      "execution_count": null,
      "metadata": {
        "id": "vmb-S-ccVvy4"
      },
      "outputs": [],
      "source": [
        "'''Q-1: Rectangle Class\n",
        "Write a Rectangle class in Python language, allowing you to build a rectangle with length and width attributes.\n",
        "\n",
        "Create a Perimeter() method to calculate the perimeter of the rectangle and a Area() method to calculate the area of ​​the rectangle.\n",
        "\n",
        "Create a method display() that display the length, width, perimeter and area of an object created using an instantiation on rectangle class.'''"
      ]
    },
    {
      "cell_type": "code",
      "source": [
        "class Rectangle():\n",
        "  def __init__(self, length, width):\n",
        "    self.r_length= length\n",
        "    self.r_width= width\n",
        "  \n",
        "  def __str__(self):  #>>The __str__() method is a special method in Python classes that defines the string representation of an object. It is called by the str() function and the print() function to obtain a string representation of the object.\n",
        "    return '<{},{}>'.format(self.r_length, self.r_width)\n",
        "  def Perimeter(self): #>>>>>>creating a method 'Permeter'\n",
        "    return 2*(self.r_length+self.r_width)\n",
        "\n",
        "  def Area(self):  #>>>> creating a method 'Area'\n",
        "    return self.r_length*self.r_width\n",
        "\n",
        "\n",
        "  def display(self):\n",
        "    print(\"Length\", self.r_length)\n",
        "    print(\"Width\", self.r_width)\n",
        "    print(\"Perimeter\", self.Perimeter())\n",
        "    print(\"Area\", self.Area())\n",
        "\n",
        "  def method(self):\n",
        "    print(\"This is the dimension, perimeter , and area of the Rectangle resp. : \")\n",
        "\n",
        "\n",
        "\n",
        "\n",
        "  "
      ],
      "metadata": {
        "id": "Uv3gRv4kWa3n"
      },
      "execution_count": 27,
      "outputs": []
    },
    {
      "cell_type": "code",
      "source": [
        "p1=  Rectangle(4,5)  #>> p1 is the object of class Rectangle\n",
        "\n",
        "p1.method()\n",
        "p1.display()\n",
        "\n",
        "\n"
      ],
      "metadata": {
        "colab": {
          "base_uri": "https://localhost:8080/"
        },
        "id": "1VORCfPLXq02",
        "outputId": "38b591fb-c91c-41b0-f39c-835fe9ae13f6"
      },
      "execution_count": 28,
      "outputs": [
        {
          "output_type": "stream",
          "name": "stdout",
          "text": [
            "This is the dimension, perimeter , and area of the Rectangle resp. : \n",
            "Length 4\n",
            "Width 5\n",
            "Perimeter 18\n",
            "Area 20\n"
          ]
        }
      ]
    },
    {
      "cell_type": "code",
      "source": [
        "\n"
      ],
      "metadata": {
        "id": "HwEX3Y3OY6td"
      },
      "execution_count": 17,
      "outputs": []
    },
    {
      "cell_type": "code",
      "source": [
        "\n",
        "\n"
      ],
      "metadata": {
        "id": "pKZV_TQ4XqxI"
      },
      "execution_count": 17,
      "outputs": []
    }
  ]
}