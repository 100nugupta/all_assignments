{
 "cells": [
  {
   "cell_type": "code",
   "execution_count": 2,
   "id": "b347e311",
   "metadata": {},
   "outputs": [
    {
     "name": "stdout",
     "output_type": "stream",
     "text": [
      "Hello World!\n"
     ]
    }
   ],
   "source": [
    "#Write a Python program to print \"Hello Python\"\n",
    "print(\"Hello World!\")"
   ]
  },
  {
   "cell_type": "code",
   "execution_count": 5,
   "id": "03a40e1e",
   "metadata": {},
   "outputs": [
    {
     "name": "stdout",
     "output_type": "stream",
     "text": [
      "Enter the first number24\n",
      "Enter the second number12\n",
      "The sum of two number is: 36\n",
      "The sum of two number is: 2.0\n"
     ]
    }
   ],
   "source": [
    "#Question-2 Write a Python program to do arithmetical operations addition and division?\n",
    "num1=int(input(\"Enter the first number\"))\n",
    "num2=int(input(\"Enter the second number\"))\n",
    "sum1=num1+num2\n",
    "div=num1/num2\n",
    "print(\"The sum of two number is:\",sum1)\n",
    "print (\"The sum of two number is:\",div)"
   ]
  },
  {
   "cell_type": "code",
   "execution_count": 11,
   "id": "cbd1ce56",
   "metadata": {},
   "outputs": [
    {
     "name": "stdout",
     "output_type": "stream",
     "text": [
      "Enter the base of the triangle: 2\n",
      "Enter the height of the triangle: 2\n",
      "The area of the triangle is: 2.0\n"
     ]
    }
   ],
   "source": [
    "#Question-3 Write a Python program to find the area of a triangle?\n",
    "base=int(input(\"Enter the base of the triangle: \"))\n",
    "height=int(input(\"Enter the height of the triangle: \"))\n",
    "area = float(1/2*base*height)\n",
    "print(\"The area of the triangle is:\", area)\n"
   ]
  },
  {
   "cell_type": "code",
   "execution_count": 22,
   "id": "8e859bc7",
   "metadata": {},
   "outputs": [
    {
     "name": "stdout",
     "output_type": "stream",
     "text": [
      "A: 2\n",
      "B: 1\n"
     ]
    }
   ],
   "source": [
    "#Question-4 Write a Python program to swap two variables?\n",
    "a=1\n",
    "b=2\n",
    "a,b=b,a\n",
    "print(\"A:\",a)\n",
    "print(\"B:\",b)\n"
   ]
  },
  {
   "cell_type": "code",
   "execution_count": 38,
   "id": "6b4d63a1",
   "metadata": {},
   "outputs": [
    {
     "name": "stdout",
     "output_type": "stream",
     "text": [
      "24\n"
     ]
    }
   ],
   "source": [
    "#Question:5 Write a Python program to generate a random number?\n",
    "import random\n",
    "print(random.randint(0,100))\n",
    "\n",
    "\n",
    "\n"
   ]
  },
  {
   "cell_type": "code",
   "execution_count": null,
   "id": "bd057eb9",
   "metadata": {},
   "outputs": [],
   "source": [
    "a=[10,20,30,40,50,60,70,80,90,100]\n"
   ]
  }
 ],
 "metadata": {
  "kernelspec": {
   "display_name": "Python 3 (ipykernel)",
   "language": "python",
   "name": "python3"
  },
  "language_info": {
   "codemirror_mode": {
    "name": "ipython",
    "version": 3
   },
   "file_extension": ".py",
   "mimetype": "text/x-python",
   "name": "python",
   "nbconvert_exporter": "python",
   "pygments_lexer": "ipython3",
   "version": "3.10.9"
  }
 },
 "nbformat": 4,
 "nbformat_minor": 5
}
