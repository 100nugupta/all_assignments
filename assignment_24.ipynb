{
 "cells": [
  {
   "cell_type": "code",
   "execution_count": null,
   "id": "1b7f56e5",
   "metadata": {},
   "outputs": [],
   "source": [
    "'''Question1\n",
    "Create a function that takes an integer and returns a list from 1 to the given number, where:\n",
    "If the number can be divided evenly by 4, amplify it by 10 (i.e. return 10 times the number).\n",
    "If the number cannot be divided evenly by 4, simply return the number.\n",
    "Examples\n",
    "amplify(4) ➞ [1, 2, 3, 40]\n",
    "\n",
    "amplify(3) ➞ [1, 2, 3]\n",
    "\n",
    "amplify(25) ➞ [1, 2, 3, 40, 5, 6, 7, 80, 9, 10, 11, 120, 13, 14, 15, 160, 17, 18, 19, 200, 21, 22, 23, 240, 25]\n",
    "Notes\n",
    "The given integer will always be equal to or greater than 1.\n",
    "Include the number (see example above).\n",
    "To perform this problem with its intended purpose, try doing it with list comprehensions. If that's too difficult, just solve the challenge any way you can.\n",
    "'''\n"
   ]
  },
  {
   "cell_type": "code",
   "execution_count": 19,
   "id": "197d7e2a",
   "metadata": {},
   "outputs": [
    {
     "name": "stdout",
     "output_type": "stream",
     "text": [
      "[1, 2, 3, 40, 5, 6, 7, 80, 9, 10]\n"
     ]
    }
   ],
   "source": [
    "def amplify_num(number):\n",
    "    output=[]\n",
    "    for i in range(1,number+1):\n",
    "        \n",
    "        if i%4==0:\n",
    "            output.append(i*10)\n",
    "            #return output(i*10)\n",
    "        else:\n",
    "            output.append(i)\n",
    "            #return output\n",
    "    return output\n",
    "print(amplify_num(10))\n"
   ]
  },
  {
   "cell_type": "code",
   "execution_count": null,
   "id": "497fa967",
   "metadata": {},
   "outputs": [],
   "source": [
    "'''Question2\n",
    "Create a function that takes a list of numbers and return the number that's unique.\n",
    "Examples\n",
    "unique([3, 3, 3, 7, 3, 3]) ➞ 7\n",
    "\n",
    "unique([0, 0, 0.77, 0, 0]) ➞ 0.77\n",
    "\n",
    "unique([0, 1, 1, 1, 1, 1, 1, 1]) ➞ 0\n",
    "Notes\n",
    "Test cases will always have exactly one unique number while all others are the same.\n",
    "\n",
    "'''"
   ]
  },
  {
   "cell_type": "code",
   "execution_count": 21,
   "id": "f15ba154",
   "metadata": {},
   "outputs": [
    {
     "name": "stdout",
     "output_type": "stream",
     "text": [
      "7\n"
     ]
    }
   ],
   "source": [
    "def unique_num(number):\n",
    "    unique_count=[]\n",
    "    for i in number:\n",
    "        if number.count(i)==1:\n",
    "            return i\n",
    "print(unique_num([3, 3, 3, 7, 3, 3]))\n",
    "    "
   ]
  },
  {
   "cell_type": "code",
   "execution_count": null,
   "id": "8461b066",
   "metadata": {},
   "outputs": [],
   "source": [
    "'''\n",
    "Question3\n",
    "Your task is to create a Circle constructor that creates a circle with a radius provided by an argument. The circles constructed must have two getters getArea() (PIr^2) and getPerimeter() (2PI*r) which give both respective areas and perimeter (circumference).\n",
    "For help with this class, I have provided you with a Rectangle constructor which you can use as a base example.\n",
    "Examples\n",
    "circy = Circle(11)\n",
    "circy.getArea()\n",
    "\n",
    "# Should return 380.132711084365\n",
    "\n",
    "circy = Circle(4.44)\n",
    "circy.getPerimeter()\n",
    "\n",
    "# Should return 27.897342763877365\n",
    "Notes\n",
    "Round results up to the nearest integer.\n",
    "\n",
    "'''"
   ]
  },
  {
   "cell_type": "code",
   "execution_count": 35,
   "id": "7ad8e481",
   "metadata": {},
   "outputs": [
    {
     "name": "stdout",
     "output_type": "stream",
     "text": [
      "78.53981633974483\n"
     ]
    },
    {
     "data": {
      "text/plain": [
       "31.41592653589793"
      ]
     },
     "execution_count": 35,
     "metadata": {},
     "output_type": "execute_result"
    }
   ],
   "source": [
    "import math\n",
    "class circle():\n",
    "    def __init__(self,radius):\n",
    "        self.radius=radius\n",
    "    def getaArea(self):\n",
    "        return math.pi*self.radius**2\n",
    "    \n",
    "    def getPerimeter(self):\n",
    "        return 2*math.pi*self.radius\n",
    "circle_s=circle(5)\n",
    "print(circle_s.getaArea())\n",
    "(circle_s.getPerimeter())\n"
   ]
  },
  {
   "cell_type": "code",
   "execution_count": null,
   "id": "6729a2da",
   "metadata": {},
   "outputs": [],
   "source": [
    "'''Question4\n",
    "Create a function that takes a list of strings and return a list, sorted from shortest to longest.\n",
    "Examples\n",
    "sort_by_length([\"Google\", \"Apple\", \"Microsoft\"])\n",
    "➞ [\"Apple\", \"Google\", \"Microsoft\"]\n",
    "\n",
    "sort_by_length([\"Leonardo\", \"Michelangelo\", \"Raphael\", \"Donatello\"])\n",
    "➞ [\"Raphael\", \"Leonardo\", \"Donatello\", \"Michelangelo\"]\n",
    "\n",
    "sort_by_length([\"Turing\", \"Einstein\", \"Jung\"])\n",
    "➞ [\"Jung\", \"Turing\", \"Einstein\"]\n",
    "Notes\n",
    "All test cases contain lists with strings of different lengths, so you won't have to deal with multiple strings of the same length.\n",
    "'''"
   ]
  },
  {
   "cell_type": "code",
   "execution_count": 44,
   "id": "e7a037ef",
   "metadata": {},
   "outputs": [
    {
     "name": "stdout",
     "output_type": "stream",
     "text": [
      "['Apple', 'Google', 'Microsoft']\n"
     ]
    }
   ],
   "source": [
    "def sorted_function(string):\n",
    "    sorted_string=[]\n",
    "    for i in string:\n",
    "        sorted_string.append(i)\n",
    "    sorted_string.sort()\n",
    "    return sorted_string\n",
    "print(sorted_function([\"Google\", \"Apple\", \"Microsoft\"]))\n",
    "    "
   ]
  },
  {
   "cell_type": "code",
   "execution_count": null,
   "id": "e005e4c5",
   "metadata": {},
   "outputs": [],
   "source": [
    "'''Question5\n",
    "Create a function that validates whether three given integers form a Pythagorean triplet. The sum of the squares of the two smallest integers must equal the square of the largest number to be validated.\n",
    "\n",
    "\n",
    "Examples\n",
    "is_triplet(3, 4, 5) ➞ True\n",
    "# 3² + 4² = 25\n",
    "# 5² = 25\n",
    "\n",
    "is_triplet(13, 5, 12) ➞ True\n",
    "# 5² + 12² = 169\n",
    "# 13² = 169\n",
    "\n",
    "is_triplet(1, 2, 3) ➞ False\n",
    "# 1² + 2² = 5\n",
    "# 3² = 9\n",
    "Notes\n",
    "Numbers may not be given in a sorted order.\n",
    "'''"
   ]
  },
  {
   "cell_type": "code",
   "execution_count": 48,
   "id": "6b44bae0",
   "metadata": {},
   "outputs": [
    {
     "data": {
      "text/plain": [
       "True"
      ]
     },
     "execution_count": 48,
     "metadata": {},
     "output_type": "execute_result"
    }
   ],
   "source": [
    "def is_pythagorean_triplet(a,b,c):\n",
    "    a_squared=a**2\n",
    "    b_squared=b**2\n",
    "    c_squared=c**2\n",
    "    if (a_squared+b_squared==c_squared) or (a_squared+c_squared==b_squared) or (b_squared+c_squared==a_squared):\n",
    "        return True\n",
    "    else:\n",
    "        return False\n",
    "is_pythagorean_triplet(5,12,13)"
   ]
  }
 ],
 "metadata": {
  "kernelspec": {
   "display_name": "Python 3 (ipykernel)",
   "language": "python",
   "name": "python3"
  },
  "language_info": {
   "codemirror_mode": {
    "name": "ipython",
    "version": 3
   },
   "file_extension": ".py",
   "mimetype": "text/x-python",
   "name": "python",
   "nbconvert_exporter": "python",
   "pygments_lexer": "ipython3",
   "version": "3.10.9"
  }
 },
 "nbformat": 4,
 "nbformat_minor": 5
}
