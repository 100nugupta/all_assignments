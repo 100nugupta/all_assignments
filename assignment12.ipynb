{
 "cells": [
  {
   "cell_type": "code",
   "execution_count": 10,
   "id": "4164edbc",
   "metadata": {},
   "outputs": [
    {
     "name": "stdout",
     "output_type": "stream",
     "text": [
      "Enter the string: abadjadadhadhadad hkdajhkdahd eahgasjdha\n",
      "Joined string is : abadjadadhadhadad hkdajhkdahd eahgasjdha\n"
     ]
    }
   ],
   "source": [
    "#Write a Python program to split and join a string?\n",
    "string=(input(\"Enter the string: \"))\n",
    "new_string=string.split(' ')\n",
    "l_string=' '.join(new_string)\n",
    "print(\"Joined string is :\",l_string)\n",
    "\n"
   ]
  },
  {
   "cell_type": "code",
   "execution_count": 21,
   "id": "ece2590d",
   "metadata": {},
   "outputs": [
    {
     "name": "stdout",
     "output_type": "stream",
     "text": [
      "Enter the binary string: sonu\n",
      "The string is not a binary string\n"
     ]
    }
   ],
   "source": [
    "#Write a Python to check if a given string is binary string or not?\n",
    "string2=input(\"Enter the binary string: \")\n",
    "is_binary= True\n",
    "for char in string2:\n",
    "    if char !='0' and char!='1':\n",
    "        is_binary=False\n",
    "        break\n",
    "if is_binary:\n",
    "    print(\"The string is a binary string\")\n",
    "else:\n",
    "    print(\"The string is not a binary string\")\n",
    "\n"
   ]
  },
  {
   "cell_type": "code",
   "execution_count": 24,
   "id": "ce6426be",
   "metadata": {},
   "outputs": [
    {
     "name": "stdout",
     "output_type": "stream",
     "text": [
      "Enter the first string: ravi bera\n",
      "enter the second string: ravi sihag\n",
      "uncommon words are:  {'sihag', 'bera'}\n"
     ]
    }
   ],
   "source": [
    "#Write a Python program to find uncommon words from two Strings?\n",
    "string3=input(\"Enter the first string: \")\n",
    "string4=input(\"enter the second string: \")\n",
    "words1=string3.split()\n",
    "words2=string4.split()\n",
    "\n",
    "set3=set(words1)\n",
    "set4=set(words2)\n",
    "uncommon_word=set3.symmetric_difference(set4)\n",
    "print(\"uncommon words are: \", uncommon_word)"
   ]
  },
  {
   "cell_type": "code",
   "execution_count": 34,
   "id": "0511d1b7",
   "metadata": {},
   "outputs": [
    {
     "name": "stdout",
     "output_type": "stream",
     "text": [
      "enter the string: ravi bera\n",
      "enter the string: ravi sihag\n",
      "{'sihag', 'bera'}\n"
     ]
    }
   ],
   "source": [
    "#same code using function\n",
    "def Find_uncommon_word(string5, string6):\n",
    "    words1=string5.split()\n",
    "    words2=string6.split()\n",
    "    set3=set(words1)\n",
    "    set4=set(words2)\n",
    "    uncommon_words=set3.symmetric_difference(set4)\n",
    "    return uncommon_words\n",
    "#Find_uncommon_word()\n",
    "string5=input(\"enter the string: \")\n",
    "string6= input(\"enter the string: \")\n",
    "uncommon_words= Find_uncommon_word(string5, string6)\n",
    "print(uncommon_words)\n"
   ]
  },
  {
   "cell_type": "code",
   "execution_count": 40,
   "id": "12f659c1",
   "metadata": {},
   "outputs": [
    {
     "name": "stdout",
     "output_type": "stream",
     "text": [
      "Enter the string: sonuinsonu\n",
      "['n', 's', 'o', 'n', 'u']\n"
     ]
    }
   ],
   "source": [
    "##Write a Python to find all duplicate characters in string?\n",
    "def find_duplicate_string(string):\n",
    "    duplicates=[]\n",
    "    seen=set()\n",
    "    for char in string:\n",
    "        if char in seen:\n",
    "            duplicates.append(char)\n",
    "        else:\n",
    "            seen.add(char)\n",
    "    return duplicates\n",
    "string=input(\"Enter the string: \")\n",
    "duplicates_chars=find_duplicate_string(string)\n",
    "print(duplicates_chars)\n"
   ]
  },
  {
   "cell_type": "code",
   "execution_count": 43,
   "id": "dc415033",
   "metadata": {},
   "outputs": [
    {
     "name": "stdout",
     "output_type": "stream",
     "text": [
      "enter the string: sonu\n",
      "The string does not contains any 'SPECIAL CHARACTER'\n"
     ]
    }
   ],
   "source": [
    "#Write a Python Program to check if a string contains any special character?\n",
    "def has_special_char(string):\n",
    "    special_char=['!','@','#','$','%','^','&','*','(',')','-','=']\n",
    "    for char in string:\n",
    "        if char in special_char:\n",
    "            return True\n",
    "    return False\n",
    "string=input(\"enter the string: \")\n",
    "if has_special_char(string):\n",
    "    print(\"The string contains 'SPECIAL CHARACTER'\")\n",
    "else:\n",
    "    print(\"The string does not contains any 'SPECIAL CHARACTER'\")\n",
    "    "
   ]
  },
  {
   "cell_type": "code",
   "execution_count": null,
   "id": "b6f815db",
   "metadata": {},
   "outputs": [],
   "source": []
  }
 ],
 "metadata": {
  "kernelspec": {
   "display_name": "Python 3 (ipykernel)",
   "language": "python",
   "name": "python3"
  },
  "language_info": {
   "codemirror_mode": {
    "name": "ipython",
    "version": 3
   },
   "file_extension": ".py",
   "mimetype": "text/x-python",
   "name": "python",
   "nbconvert_exporter": "python",
   "pygments_lexer": "ipython3",
   "version": "3.10.9"
  }
 },
 "nbformat": 4,
 "nbformat_minor": 5
}
